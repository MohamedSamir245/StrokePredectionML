{
 "cells": [
  {
   "cell_type": "code",
   "execution_count": 1,
   "metadata": {},
   "outputs": [],
   "source": [
    "#skip if you already installed it\n",
    "# pip install tensorflow-addons\n"
   ]
  },
  {
   "cell_type": "code",
   "execution_count": 1,
   "metadata": {},
   "outputs": [],
   "source": [
    "import matplotlib.pyplot as plt\n",
    "import pandas as pd\n",
    "import numpy as np\n",
    "import statistics as st\n",
    "from matplotlib import colors\n",
    "from matplotlib.ticker import PercentFormatter\n",
    "from sklearn.model_selection import train_test_split\n",
    "from sklearn import svm\n",
    "from sklearn.preprocessing import MinMaxScaler\n",
    "from sklearn.ensemble import BaggingClassifier\n",
    "from sklearn.tree import DecisionTreeClassifier\n",
    "from sklearn.model_selection import cross_val_score\n",
    "from sklearn.ensemble import RandomForestClassifier\n",
    "import seaborn as sn\n",
    "from tensorflow_addons import losses\n",
    "import tensorflow as tf\n",
    "from tensorflow import keras\n",
    "from sklearn.metrics import confusion_matrix, classification_report\n"
   ]
  },
  {
   "cell_type": "code",
   "execution_count": 16,
   "metadata": {},
   "outputs": [],
   "source": [
    "df = pd.read_csv(\"healthcare-dataset-stroke-data.csv\")\n"
   ]
  },
  {
   "cell_type": "code",
   "execution_count": 17,
   "metadata": {},
   "outputs": [
    {
     "data": {
      "text/html": [
       "<div>\n",
       "<style scoped>\n",
       "    .dataframe tbody tr th:only-of-type {\n",
       "        vertical-align: middle;\n",
       "    }\n",
       "\n",
       "    .dataframe tbody tr th {\n",
       "        vertical-align: top;\n",
       "    }\n",
       "\n",
       "    .dataframe thead th {\n",
       "        text-align: right;\n",
       "    }\n",
       "</style>\n",
       "<table border=\"1\" class=\"dataframe\">\n",
       "  <thead>\n",
       "    <tr style=\"text-align: right;\">\n",
       "      <th></th>\n",
       "      <th>id</th>\n",
       "      <th>gender</th>\n",
       "      <th>age</th>\n",
       "      <th>hypertension</th>\n",
       "      <th>heart_disease</th>\n",
       "      <th>ever_married</th>\n",
       "      <th>work_type</th>\n",
       "      <th>Residence_type</th>\n",
       "      <th>avg_glucose_level</th>\n",
       "      <th>bmi</th>\n",
       "      <th>smoking_status</th>\n",
       "      <th>stroke</th>\n",
       "    </tr>\n",
       "  </thead>\n",
       "  <tbody>\n",
       "    <tr>\n",
       "      <th>0</th>\n",
       "      <td>9046</td>\n",
       "      <td>Male</td>\n",
       "      <td>67.0</td>\n",
       "      <td>0</td>\n",
       "      <td>1</td>\n",
       "      <td>Yes</td>\n",
       "      <td>Private</td>\n",
       "      <td>Urban</td>\n",
       "      <td>228.69</td>\n",
       "      <td>36.6</td>\n",
       "      <td>formerly smoked</td>\n",
       "      <td>1</td>\n",
       "    </tr>\n",
       "    <tr>\n",
       "      <th>1</th>\n",
       "      <td>51676</td>\n",
       "      <td>Female</td>\n",
       "      <td>61.0</td>\n",
       "      <td>0</td>\n",
       "      <td>0</td>\n",
       "      <td>Yes</td>\n",
       "      <td>Self-employed</td>\n",
       "      <td>Rural</td>\n",
       "      <td>202.21</td>\n",
       "      <td>NaN</td>\n",
       "      <td>never smoked</td>\n",
       "      <td>1</td>\n",
       "    </tr>\n",
       "    <tr>\n",
       "      <th>2</th>\n",
       "      <td>31112</td>\n",
       "      <td>Male</td>\n",
       "      <td>80.0</td>\n",
       "      <td>0</td>\n",
       "      <td>1</td>\n",
       "      <td>Yes</td>\n",
       "      <td>Private</td>\n",
       "      <td>Rural</td>\n",
       "      <td>105.92</td>\n",
       "      <td>32.5</td>\n",
       "      <td>never smoked</td>\n",
       "      <td>1</td>\n",
       "    </tr>\n",
       "    <tr>\n",
       "      <th>3</th>\n",
       "      <td>60182</td>\n",
       "      <td>Female</td>\n",
       "      <td>49.0</td>\n",
       "      <td>0</td>\n",
       "      <td>0</td>\n",
       "      <td>Yes</td>\n",
       "      <td>Private</td>\n",
       "      <td>Urban</td>\n",
       "      <td>171.23</td>\n",
       "      <td>34.4</td>\n",
       "      <td>smokes</td>\n",
       "      <td>1</td>\n",
       "    </tr>\n",
       "    <tr>\n",
       "      <th>4</th>\n",
       "      <td>1665</td>\n",
       "      <td>Female</td>\n",
       "      <td>79.0</td>\n",
       "      <td>1</td>\n",
       "      <td>0</td>\n",
       "      <td>Yes</td>\n",
       "      <td>Self-employed</td>\n",
       "      <td>Rural</td>\n",
       "      <td>174.12</td>\n",
       "      <td>24.0</td>\n",
       "      <td>never smoked</td>\n",
       "      <td>1</td>\n",
       "    </tr>\n",
       "  </tbody>\n",
       "</table>\n",
       "</div>"
      ],
      "text/plain": [
       "      id  gender   age  hypertension  heart_disease ever_married  \\\n",
       "0   9046    Male  67.0             0              1          Yes   \n",
       "1  51676  Female  61.0             0              0          Yes   \n",
       "2  31112    Male  80.0             0              1          Yes   \n",
       "3  60182  Female  49.0             0              0          Yes   \n",
       "4   1665  Female  79.0             1              0          Yes   \n",
       "\n",
       "       work_type Residence_type  avg_glucose_level   bmi   smoking_status  \\\n",
       "0        Private          Urban             228.69  36.6  formerly smoked   \n",
       "1  Self-employed          Rural             202.21   NaN     never smoked   \n",
       "2        Private          Rural             105.92  32.5     never smoked   \n",
       "3        Private          Urban             171.23  34.4           smokes   \n",
       "4  Self-employed          Rural             174.12  24.0     never smoked   \n",
       "\n",
       "   stroke  \n",
       "0       1  \n",
       "1       1  \n",
       "2       1  \n",
       "3       1  \n",
       "4       1  "
      ]
     },
     "execution_count": 17,
     "metadata": {},
     "output_type": "execute_result"
    }
   ],
   "source": [
    "df.head()"
   ]
  },
  {
   "cell_type": "code",
   "execution_count": 18,
   "metadata": {},
   "outputs": [
    {
     "data": {
      "text/plain": [
       "4.094520268893868"
      ]
     },
     "execution_count": 18,
     "metadata": {},
     "output_type": "execute_result"
    }
   ],
   "source": [
    "df['bmi'].isnull().sum()/df['bmi'].count()*100\n"
   ]
  },
  {
   "cell_type": "code",
   "execution_count": 19,
   "metadata": {},
   "outputs": [
    {
     "data": {
      "text/plain": [
       "id                     0\n",
       "gender                 0\n",
       "age                    0\n",
       "hypertension           0\n",
       "heart_disease          0\n",
       "ever_married           0\n",
       "work_type              0\n",
       "Residence_type         0\n",
       "avg_glucose_level      0\n",
       "bmi                  201\n",
       "smoking_status         0\n",
       "stroke                 0\n",
       "dtype: int64"
      ]
     },
     "execution_count": 19,
     "metadata": {},
     "output_type": "execute_result"
    }
   ],
   "source": [
    "df.isnull().sum()"
   ]
  },
  {
   "cell_type": "code",
   "execution_count": 20,
   "metadata": {},
   "outputs": [],
   "source": [
    "df.bmi.fillna(axis=0,inplace=True,value=df.bmi.mean())"
   ]
  },
  {
   "cell_type": "code",
   "execution_count": 21,
   "metadata": {},
   "outputs": [],
   "source": [
    "#fill the empty cells in column bmi with the mean of the columns\n",
    "#we don't have a big data so it's better to fill the null not ignoring them\n",
    "# df.bmi.fillna(axis=0,inplace=True,value=df.bmi.mean())"
   ]
  },
  {
   "cell_type": "code",
   "execution_count": 22,
   "metadata": {},
   "outputs": [
    {
     "data": {
      "text/html": [
       "<div>\n",
       "<style scoped>\n",
       "    .dataframe tbody tr th:only-of-type {\n",
       "        vertical-align: middle;\n",
       "    }\n",
       "\n",
       "    .dataframe tbody tr th {\n",
       "        vertical-align: top;\n",
       "    }\n",
       "\n",
       "    .dataframe thead th {\n",
       "        text-align: right;\n",
       "    }\n",
       "</style>\n",
       "<table border=\"1\" class=\"dataframe\">\n",
       "  <thead>\n",
       "    <tr style=\"text-align: right;\">\n",
       "      <th></th>\n",
       "      <th>id</th>\n",
       "      <th>age</th>\n",
       "      <th>hypertension</th>\n",
       "      <th>heart_disease</th>\n",
       "      <th>avg_glucose_level</th>\n",
       "      <th>bmi</th>\n",
       "      <th>stroke</th>\n",
       "    </tr>\n",
       "  </thead>\n",
       "  <tbody>\n",
       "    <tr>\n",
       "      <th>count</th>\n",
       "      <td>5110.000000</td>\n",
       "      <td>5110.000000</td>\n",
       "      <td>5110.000000</td>\n",
       "      <td>5110.000000</td>\n",
       "      <td>5110.000000</td>\n",
       "      <td>5110.000000</td>\n",
       "      <td>5110.000000</td>\n",
       "    </tr>\n",
       "    <tr>\n",
       "      <th>mean</th>\n",
       "      <td>36517.829354</td>\n",
       "      <td>43.226614</td>\n",
       "      <td>0.097456</td>\n",
       "      <td>0.054012</td>\n",
       "      <td>106.147677</td>\n",
       "      <td>28.893237</td>\n",
       "      <td>0.048728</td>\n",
       "    </tr>\n",
       "    <tr>\n",
       "      <th>std</th>\n",
       "      <td>21161.721625</td>\n",
       "      <td>22.612647</td>\n",
       "      <td>0.296607</td>\n",
       "      <td>0.226063</td>\n",
       "      <td>45.283560</td>\n",
       "      <td>7.698018</td>\n",
       "      <td>0.215320</td>\n",
       "    </tr>\n",
       "    <tr>\n",
       "      <th>min</th>\n",
       "      <td>67.000000</td>\n",
       "      <td>0.080000</td>\n",
       "      <td>0.000000</td>\n",
       "      <td>0.000000</td>\n",
       "      <td>55.120000</td>\n",
       "      <td>10.300000</td>\n",
       "      <td>0.000000</td>\n",
       "    </tr>\n",
       "    <tr>\n",
       "      <th>25%</th>\n",
       "      <td>17741.250000</td>\n",
       "      <td>25.000000</td>\n",
       "      <td>0.000000</td>\n",
       "      <td>0.000000</td>\n",
       "      <td>77.245000</td>\n",
       "      <td>23.800000</td>\n",
       "      <td>0.000000</td>\n",
       "    </tr>\n",
       "    <tr>\n",
       "      <th>50%</th>\n",
       "      <td>36932.000000</td>\n",
       "      <td>45.000000</td>\n",
       "      <td>0.000000</td>\n",
       "      <td>0.000000</td>\n",
       "      <td>91.885000</td>\n",
       "      <td>28.400000</td>\n",
       "      <td>0.000000</td>\n",
       "    </tr>\n",
       "    <tr>\n",
       "      <th>75%</th>\n",
       "      <td>54682.000000</td>\n",
       "      <td>61.000000</td>\n",
       "      <td>0.000000</td>\n",
       "      <td>0.000000</td>\n",
       "      <td>114.090000</td>\n",
       "      <td>32.800000</td>\n",
       "      <td>0.000000</td>\n",
       "    </tr>\n",
       "    <tr>\n",
       "      <th>max</th>\n",
       "      <td>72940.000000</td>\n",
       "      <td>82.000000</td>\n",
       "      <td>1.000000</td>\n",
       "      <td>1.000000</td>\n",
       "      <td>271.740000</td>\n",
       "      <td>97.600000</td>\n",
       "      <td>1.000000</td>\n",
       "    </tr>\n",
       "  </tbody>\n",
       "</table>\n",
       "</div>"
      ],
      "text/plain": [
       "                 id          age  hypertension  heart_disease  \\\n",
       "count   5110.000000  5110.000000   5110.000000    5110.000000   \n",
       "mean   36517.829354    43.226614      0.097456       0.054012   \n",
       "std    21161.721625    22.612647      0.296607       0.226063   \n",
       "min       67.000000     0.080000      0.000000       0.000000   \n",
       "25%    17741.250000    25.000000      0.000000       0.000000   \n",
       "50%    36932.000000    45.000000      0.000000       0.000000   \n",
       "75%    54682.000000    61.000000      0.000000       0.000000   \n",
       "max    72940.000000    82.000000      1.000000       1.000000   \n",
       "\n",
       "       avg_glucose_level          bmi       stroke  \n",
       "count        5110.000000  5110.000000  5110.000000  \n",
       "mean          106.147677    28.893237     0.048728  \n",
       "std            45.283560     7.698018     0.215320  \n",
       "min            55.120000    10.300000     0.000000  \n",
       "25%            77.245000    23.800000     0.000000  \n",
       "50%            91.885000    28.400000     0.000000  \n",
       "75%           114.090000    32.800000     0.000000  \n",
       "max           271.740000    97.600000     1.000000  "
      ]
     },
     "execution_count": 22,
     "metadata": {},
     "output_type": "execute_result"
    }
   ],
   "source": [
    "df.describe()\n",
    "# features with low std will have low effect on target"
   ]
  },
  {
   "cell_type": "code",
   "execution_count": 23,
   "metadata": {},
   "outputs": [
    {
     "name": "stdout",
     "output_type": "stream",
     "text": [
      "id                   249\n",
      "gender               249\n",
      "age                  249\n",
      "hypertension         249\n",
      "heart_disease        249\n",
      "ever_married         249\n",
      "work_type            249\n",
      "Residence_type       249\n",
      "avg_glucose_level    249\n",
      "bmi                  249\n",
      "smoking_status       249\n",
      "stroke               249\n",
      "dtype: int64\n",
      "----------------------------------------\n",
      "id                   4861\n",
      "gender               4861\n",
      "age                  4861\n",
      "hypertension         4861\n",
      "heart_disease        4861\n",
      "ever_married         4861\n",
      "work_type            4861\n",
      "Residence_type       4861\n",
      "avg_glucose_level    4861\n",
      "bmi                  4861\n",
      "smoking_status       4861\n",
      "stroke               4861\n",
      "dtype: int64\n"
     ]
    }
   ],
   "source": [
    "positiveStroke = df[df.stroke == 1]\n",
    "negativeStroke = df[df.stroke == 0]\n",
    "\n",
    "print(positiveStroke.count())\n",
    "print('----------------------------------------')\n",
    "print(negativeStroke.count())\n"
   ]
  },
  {
   "cell_type": "code",
   "execution_count": 24,
   "metadata": {},
   "outputs": [],
   "source": [
    "df.drop('id', axis=1, inplace=True)"
   ]
  },
  {
   "cell_type": "code",
   "execution_count": 25,
   "metadata": {},
   "outputs": [],
   "source": [
    "#remove id column\n",
    "# df.drop('id', axis=1, inplace=True)"
   ]
  },
  {
   "cell_type": "code",
   "execution_count": 26,
   "metadata": {},
   "outputs": [
    {
     "data": {
      "text/plain": [
       "Index(['gender', 'age', 'hypertension', 'heart_disease', 'ever_married',\n",
       "       'work_type', 'Residence_type', 'avg_glucose_level', 'bmi',\n",
       "       'smoking_status', 'stroke'],\n",
       "      dtype='object')"
      ]
     },
     "execution_count": 26,
     "metadata": {},
     "output_type": "execute_result"
    }
   ],
   "source": [
    "df.columns"
   ]
  },
  {
   "cell_type": "code",
   "execution_count": 27,
   "metadata": {},
   "outputs": [],
   "source": [
    "#print the possible values of object columns\n",
    "def print_unique_col_values(df):\n",
    "    for column in df:\n",
    "        if df[column].dtypes == 'object':\n",
    "            print(f'{column}: {df[column].unique()}')"
   ]
  },
  {
   "cell_type": "code",
   "execution_count": 28,
   "metadata": {},
   "outputs": [
    {
     "name": "stdout",
     "output_type": "stream",
     "text": [
      "gender: ['Male' 'Female' 'Other']\n",
      "ever_married: ['Yes' 'No']\n",
      "work_type: ['Private' 'Self-employed' 'Govt_job' 'children' 'Never_worked']\n",
      "Residence_type: ['Urban' 'Rural']\n",
      "smoking_status: ['formerly smoked' 'never smoked' 'smokes' 'Unknown']\n"
     ]
    }
   ],
   "source": [
    "print_unique_col_values(df)"
   ]
  },
  {
   "cell_type": "code",
   "execution_count": 29,
   "metadata": {},
   "outputs": [],
   "source": [
    "#convert ever_married from string to binary\n",
    "df['ever_married'].replace({'Yes': 1, 'No': 0}, inplace=True)\n"
   ]
  },
  {
   "cell_type": "code",
   "execution_count": 30,
   "metadata": {},
   "outputs": [
    {
     "data": {
      "text/plain": [
       "array([1, 0], dtype=int64)"
      ]
     },
     "execution_count": 30,
     "metadata": {},
     "output_type": "execute_result"
    }
   ],
   "source": [
    "df.ever_married.unique()"
   ]
  },
  {
   "cell_type": "code",
   "execution_count": 31,
   "metadata": {},
   "outputs": [],
   "source": [
    "#convert Residence_type from string to binary\n",
    "#1 meand urban\n",
    "df['Residence_type'].replace({'Urban': 1, 'Rural': 0}, inplace=True)\n"
   ]
  },
  {
   "cell_type": "code",
   "execution_count": 32,
   "metadata": {},
   "outputs": [
    {
     "data": {
      "text/plain": [
       "array([1, 0], dtype=int64)"
      ]
     },
     "execution_count": 32,
     "metadata": {},
     "output_type": "execute_result"
    }
   ],
   "source": [
    "df.Residence_type.unique()\n"
   ]
  },
  {
   "cell_type": "code",
   "execution_count": 33,
   "metadata": {},
   "outputs": [
    {
     "data": {
      "text/plain": [
       "Index(['gender', 'age', 'hypertension', 'heart_disease', 'ever_married',\n",
       "       'work_type', 'Residence_type', 'avg_glucose_level', 'bmi',\n",
       "       'smoking_status', 'stroke'],\n",
       "      dtype='object')"
      ]
     },
     "execution_count": 33,
     "metadata": {},
     "output_type": "execute_result"
    }
   ],
   "source": [
    "df.columns"
   ]
  },
  {
   "attachments": {},
   "cell_type": "markdown",
   "metadata": {},
   "source": [
    "if we have gender column with three possible values (male,female,other)\n",
    "we remove that columns and replace it with three columns male,female and other and if the tuple is male then female and other value will be zero and male value will be one\n",
    "\n",
    "gender-> male   female   other\n",
    "male-> 1 0 0\n",
    "female-> 0 1 0\n",
    "\n",
    "and same for other columns which has string values"
   ]
  },
  {
   "cell_type": "code",
   "execution_count": 34,
   "metadata": {},
   "outputs": [
    {
     "data": {
      "text/plain": [
       "Index(['age', 'hypertension', 'heart_disease', 'ever_married',\n",
       "       'Residence_type', 'avg_glucose_level', 'bmi', 'stroke', 'gender_Female',\n",
       "       'gender_Male', 'gender_Other', 'work_type_Govt_job',\n",
       "       'work_type_Never_worked', 'work_type_Private',\n",
       "       'work_type_Self-employed', 'work_type_children',\n",
       "       'smoking_status_Unknown', 'smoking_status_formerly smoked',\n",
       "       'smoking_status_never smoked', 'smoking_status_smokes'],\n",
       "      dtype='object')"
      ]
     },
     "execution_count": 34,
     "metadata": {},
     "output_type": "execute_result"
    }
   ],
   "source": [
    "df = pd.get_dummies(data=df, columns=[\n",
    "    'gender', 'work_type', 'smoking_status'])\n",
    "df.columns\n"
   ]
  },
  {
   "cell_type": "code",
   "execution_count": 35,
   "metadata": {},
   "outputs": [
    {
     "data": {
      "text/html": [
       "<div>\n",
       "<style scoped>\n",
       "    .dataframe tbody tr th:only-of-type {\n",
       "        vertical-align: middle;\n",
       "    }\n",
       "\n",
       "    .dataframe tbody tr th {\n",
       "        vertical-align: top;\n",
       "    }\n",
       "\n",
       "    .dataframe thead th {\n",
       "        text-align: right;\n",
       "    }\n",
       "</style>\n",
       "<table border=\"1\" class=\"dataframe\">\n",
       "  <thead>\n",
       "    <tr style=\"text-align: right;\">\n",
       "      <th></th>\n",
       "      <th>age</th>\n",
       "      <th>hypertension</th>\n",
       "      <th>heart_disease</th>\n",
       "      <th>ever_married</th>\n",
       "      <th>Residence_type</th>\n",
       "      <th>avg_glucose_level</th>\n",
       "      <th>bmi</th>\n",
       "      <th>stroke</th>\n",
       "      <th>gender_Female</th>\n",
       "      <th>gender_Male</th>\n",
       "      <th>gender_Other</th>\n",
       "      <th>work_type_Govt_job</th>\n",
       "      <th>work_type_Never_worked</th>\n",
       "      <th>work_type_Private</th>\n",
       "      <th>work_type_Self-employed</th>\n",
       "      <th>work_type_children</th>\n",
       "      <th>smoking_status_Unknown</th>\n",
       "      <th>smoking_status_formerly smoked</th>\n",
       "      <th>smoking_status_never smoked</th>\n",
       "      <th>smoking_status_smokes</th>\n",
       "    </tr>\n",
       "  </thead>\n",
       "  <tbody>\n",
       "    <tr>\n",
       "      <th>0</th>\n",
       "      <td>67.0</td>\n",
       "      <td>0</td>\n",
       "      <td>1</td>\n",
       "      <td>1</td>\n",
       "      <td>1</td>\n",
       "      <td>228.69</td>\n",
       "      <td>36.600000</td>\n",
       "      <td>1</td>\n",
       "      <td>0</td>\n",
       "      <td>1</td>\n",
       "      <td>0</td>\n",
       "      <td>0</td>\n",
       "      <td>0</td>\n",
       "      <td>1</td>\n",
       "      <td>0</td>\n",
       "      <td>0</td>\n",
       "      <td>0</td>\n",
       "      <td>1</td>\n",
       "      <td>0</td>\n",
       "      <td>0</td>\n",
       "    </tr>\n",
       "    <tr>\n",
       "      <th>1</th>\n",
       "      <td>61.0</td>\n",
       "      <td>0</td>\n",
       "      <td>0</td>\n",
       "      <td>1</td>\n",
       "      <td>0</td>\n",
       "      <td>202.21</td>\n",
       "      <td>28.893237</td>\n",
       "      <td>1</td>\n",
       "      <td>1</td>\n",
       "      <td>0</td>\n",
       "      <td>0</td>\n",
       "      <td>0</td>\n",
       "      <td>0</td>\n",
       "      <td>0</td>\n",
       "      <td>1</td>\n",
       "      <td>0</td>\n",
       "      <td>0</td>\n",
       "      <td>0</td>\n",
       "      <td>1</td>\n",
       "      <td>0</td>\n",
       "    </tr>\n",
       "    <tr>\n",
       "      <th>2</th>\n",
       "      <td>80.0</td>\n",
       "      <td>0</td>\n",
       "      <td>1</td>\n",
       "      <td>1</td>\n",
       "      <td>0</td>\n",
       "      <td>105.92</td>\n",
       "      <td>32.500000</td>\n",
       "      <td>1</td>\n",
       "      <td>0</td>\n",
       "      <td>1</td>\n",
       "      <td>0</td>\n",
       "      <td>0</td>\n",
       "      <td>0</td>\n",
       "      <td>1</td>\n",
       "      <td>0</td>\n",
       "      <td>0</td>\n",
       "      <td>0</td>\n",
       "      <td>0</td>\n",
       "      <td>1</td>\n",
       "      <td>0</td>\n",
       "    </tr>\n",
       "    <tr>\n",
       "      <th>3</th>\n",
       "      <td>49.0</td>\n",
       "      <td>0</td>\n",
       "      <td>0</td>\n",
       "      <td>1</td>\n",
       "      <td>1</td>\n",
       "      <td>171.23</td>\n",
       "      <td>34.400000</td>\n",
       "      <td>1</td>\n",
       "      <td>1</td>\n",
       "      <td>0</td>\n",
       "      <td>0</td>\n",
       "      <td>0</td>\n",
       "      <td>0</td>\n",
       "      <td>1</td>\n",
       "      <td>0</td>\n",
       "      <td>0</td>\n",
       "      <td>0</td>\n",
       "      <td>0</td>\n",
       "      <td>0</td>\n",
       "      <td>1</td>\n",
       "    </tr>\n",
       "    <tr>\n",
       "      <th>4</th>\n",
       "      <td>79.0</td>\n",
       "      <td>1</td>\n",
       "      <td>0</td>\n",
       "      <td>1</td>\n",
       "      <td>0</td>\n",
       "      <td>174.12</td>\n",
       "      <td>24.000000</td>\n",
       "      <td>1</td>\n",
       "      <td>1</td>\n",
       "      <td>0</td>\n",
       "      <td>0</td>\n",
       "      <td>0</td>\n",
       "      <td>0</td>\n",
       "      <td>0</td>\n",
       "      <td>1</td>\n",
       "      <td>0</td>\n",
       "      <td>0</td>\n",
       "      <td>0</td>\n",
       "      <td>1</td>\n",
       "      <td>0</td>\n",
       "    </tr>\n",
       "    <tr>\n",
       "      <th>5</th>\n",
       "      <td>81.0</td>\n",
       "      <td>0</td>\n",
       "      <td>0</td>\n",
       "      <td>1</td>\n",
       "      <td>1</td>\n",
       "      <td>186.21</td>\n",
       "      <td>29.000000</td>\n",
       "      <td>1</td>\n",
       "      <td>0</td>\n",
       "      <td>1</td>\n",
       "      <td>0</td>\n",
       "      <td>0</td>\n",
       "      <td>0</td>\n",
       "      <td>1</td>\n",
       "      <td>0</td>\n",
       "      <td>0</td>\n",
       "      <td>0</td>\n",
       "      <td>1</td>\n",
       "      <td>0</td>\n",
       "      <td>0</td>\n",
       "    </tr>\n",
       "    <tr>\n",
       "      <th>6</th>\n",
       "      <td>74.0</td>\n",
       "      <td>1</td>\n",
       "      <td>1</td>\n",
       "      <td>1</td>\n",
       "      <td>0</td>\n",
       "      <td>70.09</td>\n",
       "      <td>27.400000</td>\n",
       "      <td>1</td>\n",
       "      <td>0</td>\n",
       "      <td>1</td>\n",
       "      <td>0</td>\n",
       "      <td>0</td>\n",
       "      <td>0</td>\n",
       "      <td>1</td>\n",
       "      <td>0</td>\n",
       "      <td>0</td>\n",
       "      <td>0</td>\n",
       "      <td>0</td>\n",
       "      <td>1</td>\n",
       "      <td>0</td>\n",
       "    </tr>\n",
       "    <tr>\n",
       "      <th>7</th>\n",
       "      <td>69.0</td>\n",
       "      <td>0</td>\n",
       "      <td>0</td>\n",
       "      <td>0</td>\n",
       "      <td>1</td>\n",
       "      <td>94.39</td>\n",
       "      <td>22.800000</td>\n",
       "      <td>1</td>\n",
       "      <td>1</td>\n",
       "      <td>0</td>\n",
       "      <td>0</td>\n",
       "      <td>0</td>\n",
       "      <td>0</td>\n",
       "      <td>1</td>\n",
       "      <td>0</td>\n",
       "      <td>0</td>\n",
       "      <td>0</td>\n",
       "      <td>0</td>\n",
       "      <td>1</td>\n",
       "      <td>0</td>\n",
       "    </tr>\n",
       "    <tr>\n",
       "      <th>8</th>\n",
       "      <td>59.0</td>\n",
       "      <td>0</td>\n",
       "      <td>0</td>\n",
       "      <td>1</td>\n",
       "      <td>0</td>\n",
       "      <td>76.15</td>\n",
       "      <td>28.893237</td>\n",
       "      <td>1</td>\n",
       "      <td>1</td>\n",
       "      <td>0</td>\n",
       "      <td>0</td>\n",
       "      <td>0</td>\n",
       "      <td>0</td>\n",
       "      <td>1</td>\n",
       "      <td>0</td>\n",
       "      <td>0</td>\n",
       "      <td>1</td>\n",
       "      <td>0</td>\n",
       "      <td>0</td>\n",
       "      <td>0</td>\n",
       "    </tr>\n",
       "    <tr>\n",
       "      <th>9</th>\n",
       "      <td>78.0</td>\n",
       "      <td>0</td>\n",
       "      <td>0</td>\n",
       "      <td>1</td>\n",
       "      <td>1</td>\n",
       "      <td>58.57</td>\n",
       "      <td>24.200000</td>\n",
       "      <td>1</td>\n",
       "      <td>1</td>\n",
       "      <td>0</td>\n",
       "      <td>0</td>\n",
       "      <td>0</td>\n",
       "      <td>0</td>\n",
       "      <td>1</td>\n",
       "      <td>0</td>\n",
       "      <td>0</td>\n",
       "      <td>1</td>\n",
       "      <td>0</td>\n",
       "      <td>0</td>\n",
       "      <td>0</td>\n",
       "    </tr>\n",
       "  </tbody>\n",
       "</table>\n",
       "</div>"
      ],
      "text/plain": [
       "    age  hypertension  heart_disease  ever_married  Residence_type  \\\n",
       "0  67.0             0              1             1               1   \n",
       "1  61.0             0              0             1               0   \n",
       "2  80.0             0              1             1               0   \n",
       "3  49.0             0              0             1               1   \n",
       "4  79.0             1              0             1               0   \n",
       "5  81.0             0              0             1               1   \n",
       "6  74.0             1              1             1               0   \n",
       "7  69.0             0              0             0               1   \n",
       "8  59.0             0              0             1               0   \n",
       "9  78.0             0              0             1               1   \n",
       "\n",
       "   avg_glucose_level        bmi  stroke  gender_Female  gender_Male  \\\n",
       "0             228.69  36.600000       1              0            1   \n",
       "1             202.21  28.893237       1              1            0   \n",
       "2             105.92  32.500000       1              0            1   \n",
       "3             171.23  34.400000       1              1            0   \n",
       "4             174.12  24.000000       1              1            0   \n",
       "5             186.21  29.000000       1              0            1   \n",
       "6              70.09  27.400000       1              0            1   \n",
       "7              94.39  22.800000       1              1            0   \n",
       "8              76.15  28.893237       1              1            0   \n",
       "9              58.57  24.200000       1              1            0   \n",
       "\n",
       "   gender_Other  work_type_Govt_job  work_type_Never_worked  \\\n",
       "0             0                   0                       0   \n",
       "1             0                   0                       0   \n",
       "2             0                   0                       0   \n",
       "3             0                   0                       0   \n",
       "4             0                   0                       0   \n",
       "5             0                   0                       0   \n",
       "6             0                   0                       0   \n",
       "7             0                   0                       0   \n",
       "8             0                   0                       0   \n",
       "9             0                   0                       0   \n",
       "\n",
       "   work_type_Private  work_type_Self-employed  work_type_children  \\\n",
       "0                  1                        0                   0   \n",
       "1                  0                        1                   0   \n",
       "2                  1                        0                   0   \n",
       "3                  1                        0                   0   \n",
       "4                  0                        1                   0   \n",
       "5                  1                        0                   0   \n",
       "6                  1                        0                   0   \n",
       "7                  1                        0                   0   \n",
       "8                  1                        0                   0   \n",
       "9                  1                        0                   0   \n",
       "\n",
       "   smoking_status_Unknown  smoking_status_formerly smoked  \\\n",
       "0                       0                               1   \n",
       "1                       0                               0   \n",
       "2                       0                               0   \n",
       "3                       0                               0   \n",
       "4                       0                               0   \n",
       "5                       0                               1   \n",
       "6                       0                               0   \n",
       "7                       0                               0   \n",
       "8                       1                               0   \n",
       "9                       1                               0   \n",
       "\n",
       "   smoking_status_never smoked  smoking_status_smokes  \n",
       "0                            0                      0  \n",
       "1                            1                      0  \n",
       "2                            1                      0  \n",
       "3                            0                      1  \n",
       "4                            1                      0  \n",
       "5                            0                      0  \n",
       "6                            1                      0  \n",
       "7                            1                      0  \n",
       "8                            0                      0  \n",
       "9                            0                      0  "
      ]
     },
     "execution_count": 35,
     "metadata": {},
     "output_type": "execute_result"
    }
   ],
   "source": [
    "df.head(10)"
   ]
  },
  {
   "cell_type": "code",
   "execution_count": 36,
   "metadata": {},
   "outputs": [],
   "source": [
    "#scalling improve the speed of traing the model and improve the performance\n",
    "#scalling number to be in range (0-1)\n",
    "cols_to_scale = ['age', 'avg_glucose_level', 'bmi']\n",
    "\n",
    "scaler = MinMaxScaler()\n",
    "df[cols_to_scale] = scaler.fit_transform(df[cols_to_scale])\n"
   ]
  },
  {
   "cell_type": "code",
   "execution_count": 43,
   "metadata": {},
   "outputs": [],
   "source": [
    "cols_to_scale = ['age', 'avg_glucose_level', 'bmi']\n",
    "\n",
    "scaler = MinMaxScaler()\n",
    "df[cols_to_scale] = scaler.fit_transform(df[cols_to_scale])"
   ]
  },
  {
   "cell_type": "code",
   "execution_count": 44,
   "metadata": {},
   "outputs": [
    {
     "data": {
      "text/html": [
       "<div>\n",
       "<style scoped>\n",
       "    .dataframe tbody tr th:only-of-type {\n",
       "        vertical-align: middle;\n",
       "    }\n",
       "\n",
       "    .dataframe tbody tr th {\n",
       "        vertical-align: top;\n",
       "    }\n",
       "\n",
       "    .dataframe thead th {\n",
       "        text-align: right;\n",
       "    }\n",
       "</style>\n",
       "<table border=\"1\" class=\"dataframe\">\n",
       "  <thead>\n",
       "    <tr style=\"text-align: right;\">\n",
       "      <th></th>\n",
       "      <th>age</th>\n",
       "      <th>hypertension</th>\n",
       "      <th>heart_disease</th>\n",
       "      <th>ever_married</th>\n",
       "      <th>Residence_type</th>\n",
       "      <th>avg_glucose_level</th>\n",
       "      <th>bmi</th>\n",
       "      <th>stroke</th>\n",
       "      <th>gender_Female</th>\n",
       "      <th>gender_Male</th>\n",
       "      <th>gender_Other</th>\n",
       "      <th>work_type_Govt_job</th>\n",
       "      <th>work_type_Never_worked</th>\n",
       "      <th>work_type_Private</th>\n",
       "      <th>work_type_Self-employed</th>\n",
       "      <th>work_type_children</th>\n",
       "      <th>smoking_status_Unknown</th>\n",
       "      <th>smoking_status_formerly smoked</th>\n",
       "      <th>smoking_status_never smoked</th>\n",
       "      <th>smoking_status_smokes</th>\n",
       "    </tr>\n",
       "  </thead>\n",
       "  <tbody>\n",
       "    <tr>\n",
       "      <th>0</th>\n",
       "      <td>0.816895</td>\n",
       "      <td>0</td>\n",
       "      <td>1</td>\n",
       "      <td>1</td>\n",
       "      <td>1</td>\n",
       "      <td>0.801265</td>\n",
       "      <td>0.301260</td>\n",
       "      <td>1</td>\n",
       "      <td>0</td>\n",
       "      <td>1</td>\n",
       "      <td>0</td>\n",
       "      <td>0</td>\n",
       "      <td>0</td>\n",
       "      <td>1</td>\n",
       "      <td>0</td>\n",
       "      <td>0</td>\n",
       "      <td>0</td>\n",
       "      <td>1</td>\n",
       "      <td>0</td>\n",
       "      <td>0</td>\n",
       "    </tr>\n",
       "    <tr>\n",
       "      <th>1</th>\n",
       "      <td>0.743652</td>\n",
       "      <td>0</td>\n",
       "      <td>0</td>\n",
       "      <td>1</td>\n",
       "      <td>0</td>\n",
       "      <td>0.679023</td>\n",
       "      <td>0.212981</td>\n",
       "      <td>1</td>\n",
       "      <td>1</td>\n",
       "      <td>0</td>\n",
       "      <td>0</td>\n",
       "      <td>0</td>\n",
       "      <td>0</td>\n",
       "      <td>0</td>\n",
       "      <td>1</td>\n",
       "      <td>0</td>\n",
       "      <td>0</td>\n",
       "      <td>0</td>\n",
       "      <td>1</td>\n",
       "      <td>0</td>\n",
       "    </tr>\n",
       "    <tr>\n",
       "      <th>2</th>\n",
       "      <td>0.975586</td>\n",
       "      <td>0</td>\n",
       "      <td>1</td>\n",
       "      <td>1</td>\n",
       "      <td>0</td>\n",
       "      <td>0.234512</td>\n",
       "      <td>0.254296</td>\n",
       "      <td>1</td>\n",
       "      <td>0</td>\n",
       "      <td>1</td>\n",
       "      <td>0</td>\n",
       "      <td>0</td>\n",
       "      <td>0</td>\n",
       "      <td>1</td>\n",
       "      <td>0</td>\n",
       "      <td>0</td>\n",
       "      <td>0</td>\n",
       "      <td>0</td>\n",
       "      <td>1</td>\n",
       "      <td>0</td>\n",
       "    </tr>\n",
       "    <tr>\n",
       "      <th>3</th>\n",
       "      <td>0.597168</td>\n",
       "      <td>0</td>\n",
       "      <td>0</td>\n",
       "      <td>1</td>\n",
       "      <td>1</td>\n",
       "      <td>0.536008</td>\n",
       "      <td>0.276060</td>\n",
       "      <td>1</td>\n",
       "      <td>1</td>\n",
       "      <td>0</td>\n",
       "      <td>0</td>\n",
       "      <td>0</td>\n",
       "      <td>0</td>\n",
       "      <td>1</td>\n",
       "      <td>0</td>\n",
       "      <td>0</td>\n",
       "      <td>0</td>\n",
       "      <td>0</td>\n",
       "      <td>0</td>\n",
       "      <td>1</td>\n",
       "    </tr>\n",
       "    <tr>\n",
       "      <th>4</th>\n",
       "      <td>0.963379</td>\n",
       "      <td>1</td>\n",
       "      <td>0</td>\n",
       "      <td>1</td>\n",
       "      <td>0</td>\n",
       "      <td>0.549349</td>\n",
       "      <td>0.156930</td>\n",
       "      <td>1</td>\n",
       "      <td>1</td>\n",
       "      <td>0</td>\n",
       "      <td>0</td>\n",
       "      <td>0</td>\n",
       "      <td>0</td>\n",
       "      <td>0</td>\n",
       "      <td>1</td>\n",
       "      <td>0</td>\n",
       "      <td>0</td>\n",
       "      <td>0</td>\n",
       "      <td>1</td>\n",
       "      <td>0</td>\n",
       "    </tr>\n",
       "    <tr>\n",
       "      <th>5</th>\n",
       "      <td>0.987793</td>\n",
       "      <td>0</td>\n",
       "      <td>0</td>\n",
       "      <td>1</td>\n",
       "      <td>1</td>\n",
       "      <td>0.605161</td>\n",
       "      <td>0.214204</td>\n",
       "      <td>1</td>\n",
       "      <td>0</td>\n",
       "      <td>1</td>\n",
       "      <td>0</td>\n",
       "      <td>0</td>\n",
       "      <td>0</td>\n",
       "      <td>1</td>\n",
       "      <td>0</td>\n",
       "      <td>0</td>\n",
       "      <td>0</td>\n",
       "      <td>1</td>\n",
       "      <td>0</td>\n",
       "      <td>0</td>\n",
       "    </tr>\n",
       "    <tr>\n",
       "      <th>6</th>\n",
       "      <td>0.902344</td>\n",
       "      <td>1</td>\n",
       "      <td>1</td>\n",
       "      <td>1</td>\n",
       "      <td>0</td>\n",
       "      <td>0.069107</td>\n",
       "      <td>0.195876</td>\n",
       "      <td>1</td>\n",
       "      <td>0</td>\n",
       "      <td>1</td>\n",
       "      <td>0</td>\n",
       "      <td>0</td>\n",
       "      <td>0</td>\n",
       "      <td>1</td>\n",
       "      <td>0</td>\n",
       "      <td>0</td>\n",
       "      <td>0</td>\n",
       "      <td>0</td>\n",
       "      <td>1</td>\n",
       "      <td>0</td>\n",
       "    </tr>\n",
       "    <tr>\n",
       "      <th>7</th>\n",
       "      <td>0.841309</td>\n",
       "      <td>0</td>\n",
       "      <td>0</td>\n",
       "      <td>0</td>\n",
       "      <td>1</td>\n",
       "      <td>0.181285</td>\n",
       "      <td>0.143184</td>\n",
       "      <td>1</td>\n",
       "      <td>1</td>\n",
       "      <td>0</td>\n",
       "      <td>0</td>\n",
       "      <td>0</td>\n",
       "      <td>0</td>\n",
       "      <td>1</td>\n",
       "      <td>0</td>\n",
       "      <td>0</td>\n",
       "      <td>0</td>\n",
       "      <td>0</td>\n",
       "      <td>1</td>\n",
       "      <td>0</td>\n",
       "    </tr>\n",
       "    <tr>\n",
       "      <th>8</th>\n",
       "      <td>0.719238</td>\n",
       "      <td>0</td>\n",
       "      <td>0</td>\n",
       "      <td>1</td>\n",
       "      <td>0</td>\n",
       "      <td>0.097082</td>\n",
       "      <td>0.212981</td>\n",
       "      <td>1</td>\n",
       "      <td>1</td>\n",
       "      <td>0</td>\n",
       "      <td>0</td>\n",
       "      <td>0</td>\n",
       "      <td>0</td>\n",
       "      <td>1</td>\n",
       "      <td>0</td>\n",
       "      <td>0</td>\n",
       "      <td>1</td>\n",
       "      <td>0</td>\n",
       "      <td>0</td>\n",
       "      <td>0</td>\n",
       "    </tr>\n",
       "    <tr>\n",
       "      <th>9</th>\n",
       "      <td>0.951172</td>\n",
       "      <td>0</td>\n",
       "      <td>0</td>\n",
       "      <td>1</td>\n",
       "      <td>1</td>\n",
       "      <td>0.015927</td>\n",
       "      <td>0.159221</td>\n",
       "      <td>1</td>\n",
       "      <td>1</td>\n",
       "      <td>0</td>\n",
       "      <td>0</td>\n",
       "      <td>0</td>\n",
       "      <td>0</td>\n",
       "      <td>1</td>\n",
       "      <td>0</td>\n",
       "      <td>0</td>\n",
       "      <td>1</td>\n",
       "      <td>0</td>\n",
       "      <td>0</td>\n",
       "      <td>0</td>\n",
       "    </tr>\n",
       "    <tr>\n",
       "      <th>10</th>\n",
       "      <td>0.987793</td>\n",
       "      <td>1</td>\n",
       "      <td>0</td>\n",
       "      <td>1</td>\n",
       "      <td>0</td>\n",
       "      <td>0.116841</td>\n",
       "      <td>0.222222</td>\n",
       "      <td>1</td>\n",
       "      <td>1</td>\n",
       "      <td>0</td>\n",
       "      <td>0</td>\n",
       "      <td>0</td>\n",
       "      <td>0</td>\n",
       "      <td>1</td>\n",
       "      <td>0</td>\n",
       "      <td>0</td>\n",
       "      <td>0</td>\n",
       "      <td>0</td>\n",
       "      <td>1</td>\n",
       "      <td>0</td>\n",
       "    </tr>\n",
       "    <tr>\n",
       "      <th>11</th>\n",
       "      <td>0.743652</td>\n",
       "      <td>0</td>\n",
       "      <td>1</td>\n",
       "      <td>1</td>\n",
       "      <td>0</td>\n",
       "      <td>0.301634</td>\n",
       "      <td>0.303551</td>\n",
       "      <td>1</td>\n",
       "      <td>1</td>\n",
       "      <td>0</td>\n",
       "      <td>0</td>\n",
       "      <td>1</td>\n",
       "      <td>0</td>\n",
       "      <td>0</td>\n",
       "      <td>0</td>\n",
       "      <td>0</td>\n",
       "      <td>0</td>\n",
       "      <td>0</td>\n",
       "      <td>0</td>\n",
       "      <td>1</td>\n",
       "    </tr>\n",
       "    <tr>\n",
       "      <th>12</th>\n",
       "      <td>0.658203</td>\n",
       "      <td>0</td>\n",
       "      <td>0</td>\n",
       "      <td>1</td>\n",
       "      <td>1</td>\n",
       "      <td>0.228003</td>\n",
       "      <td>0.194731</td>\n",
       "      <td>1</td>\n",
       "      <td>1</td>\n",
       "      <td>0</td>\n",
       "      <td>0</td>\n",
       "      <td>0</td>\n",
       "      <td>0</td>\n",
       "      <td>1</td>\n",
       "      <td>0</td>\n",
       "      <td>0</td>\n",
       "      <td>0</td>\n",
       "      <td>0</td>\n",
       "      <td>0</td>\n",
       "      <td>1</td>\n",
       "    </tr>\n",
       "    <tr>\n",
       "      <th>13</th>\n",
       "      <td>0.951172</td>\n",
       "      <td>0</td>\n",
       "      <td>1</td>\n",
       "      <td>1</td>\n",
       "      <td>1</td>\n",
       "      <td>0.760410</td>\n",
       "      <td>0.212981</td>\n",
       "      <td>1</td>\n",
       "      <td>0</td>\n",
       "      <td>1</td>\n",
       "      <td>0</td>\n",
       "      <td>0</td>\n",
       "      <td>0</td>\n",
       "      <td>1</td>\n",
       "      <td>0</td>\n",
       "      <td>0</td>\n",
       "      <td>1</td>\n",
       "      <td>0</td>\n",
       "      <td>0</td>\n",
       "      <td>0</td>\n",
       "    </tr>\n",
       "    <tr>\n",
       "      <th>14</th>\n",
       "      <td>0.963379</td>\n",
       "      <td>0</td>\n",
       "      <td>1</td>\n",
       "      <td>1</td>\n",
       "      <td>1</td>\n",
       "      <td>0.733866</td>\n",
       "      <td>0.205040</td>\n",
       "      <td>1</td>\n",
       "      <td>1</td>\n",
       "      <td>0</td>\n",
       "      <td>0</td>\n",
       "      <td>0</td>\n",
       "      <td>0</td>\n",
       "      <td>1</td>\n",
       "      <td>0</td>\n",
       "      <td>0</td>\n",
       "      <td>0</td>\n",
       "      <td>0</td>\n",
       "      <td>1</td>\n",
       "      <td>0</td>\n",
       "    </tr>\n",
       "    <tr>\n",
       "      <th>15</th>\n",
       "      <td>0.609375</td>\n",
       "      <td>1</td>\n",
       "      <td>0</td>\n",
       "      <td>1</td>\n",
       "      <td>0</td>\n",
       "      <td>0.518373</td>\n",
       "      <td>0.235968</td>\n",
       "      <td>1</td>\n",
       "      <td>1</td>\n",
       "      <td>0</td>\n",
       "      <td>0</td>\n",
       "      <td>0</td>\n",
       "      <td>0</td>\n",
       "      <td>0</td>\n",
       "      <td>1</td>\n",
       "      <td>0</td>\n",
       "      <td>0</td>\n",
       "      <td>0</td>\n",
       "      <td>1</td>\n",
       "      <td>0</td>\n",
       "    </tr>\n",
       "    <tr>\n",
       "      <th>16</th>\n",
       "      <td>0.780273</td>\n",
       "      <td>0</td>\n",
       "      <td>1</td>\n",
       "      <td>1</td>\n",
       "      <td>1</td>\n",
       "      <td>0.630090</td>\n",
       "      <td>0.311569</td>\n",
       "      <td>1</td>\n",
       "      <td>0</td>\n",
       "      <td>1</td>\n",
       "      <td>0</td>\n",
       "      <td>0</td>\n",
       "      <td>0</td>\n",
       "      <td>1</td>\n",
       "      <td>0</td>\n",
       "      <td>0</td>\n",
       "      <td>0</td>\n",
       "      <td>0</td>\n",
       "      <td>0</td>\n",
       "      <td>1</td>\n",
       "    </tr>\n",
       "    <tr>\n",
       "      <th>17</th>\n",
       "      <td>0.914551</td>\n",
       "      <td>1</td>\n",
       "      <td>0</td>\n",
       "      <td>1</td>\n",
       "      <td>1</td>\n",
       "      <td>0.767104</td>\n",
       "      <td>0.177549</td>\n",
       "      <td>1</td>\n",
       "      <td>0</td>\n",
       "      <td>1</td>\n",
       "      <td>0</td>\n",
       "      <td>0</td>\n",
       "      <td>0</td>\n",
       "      <td>1</td>\n",
       "      <td>0</td>\n",
       "      <td>0</td>\n",
       "      <td>0</td>\n",
       "      <td>0</td>\n",
       "      <td>0</td>\n",
       "      <td>1</td>\n",
       "    </tr>\n",
       "    <tr>\n",
       "      <th>18</th>\n",
       "      <td>0.731445</td>\n",
       "      <td>0</td>\n",
       "      <td>0</td>\n",
       "      <td>0</td>\n",
       "      <td>1</td>\n",
       "      <td>0.157419</td>\n",
       "      <td>0.315006</td>\n",
       "      <td>1</td>\n",
       "      <td>1</td>\n",
       "      <td>0</td>\n",
       "      <td>0</td>\n",
       "      <td>0</td>\n",
       "      <td>0</td>\n",
       "      <td>1</td>\n",
       "      <td>0</td>\n",
       "      <td>0</td>\n",
       "      <td>0</td>\n",
       "      <td>0</td>\n",
       "      <td>1</td>\n",
       "      <td>0</td>\n",
       "    </tr>\n",
       "    <tr>\n",
       "      <th>19</th>\n",
       "      <td>0.694824</td>\n",
       "      <td>0</td>\n",
       "      <td>1</td>\n",
       "      <td>0</td>\n",
       "      <td>1</td>\n",
       "      <td>0.747669</td>\n",
       "      <td>0.212981</td>\n",
       "      <td>1</td>\n",
       "      <td>0</td>\n",
       "      <td>1</td>\n",
       "      <td>0</td>\n",
       "      <td>1</td>\n",
       "      <td>0</td>\n",
       "      <td>0</td>\n",
       "      <td>0</td>\n",
       "      <td>0</td>\n",
       "      <td>1</td>\n",
       "      <td>0</td>\n",
       "      <td>0</td>\n",
       "      <td>0</td>\n",
       "    </tr>\n",
       "  </tbody>\n",
       "</table>\n",
       "</div>"
      ],
      "text/plain": [
       "         age  hypertension  heart_disease  ever_married  Residence_type  \\\n",
       "0   0.816895             0              1             1               1   \n",
       "1   0.743652             0              0             1               0   \n",
       "2   0.975586             0              1             1               0   \n",
       "3   0.597168             0              0             1               1   \n",
       "4   0.963379             1              0             1               0   \n",
       "5   0.987793             0              0             1               1   \n",
       "6   0.902344             1              1             1               0   \n",
       "7   0.841309             0              0             0               1   \n",
       "8   0.719238             0              0             1               0   \n",
       "9   0.951172             0              0             1               1   \n",
       "10  0.987793             1              0             1               0   \n",
       "11  0.743652             0              1             1               0   \n",
       "12  0.658203             0              0             1               1   \n",
       "13  0.951172             0              1             1               1   \n",
       "14  0.963379             0              1             1               1   \n",
       "15  0.609375             1              0             1               0   \n",
       "16  0.780273             0              1             1               1   \n",
       "17  0.914551             1              0             1               1   \n",
       "18  0.731445             0              0             0               1   \n",
       "19  0.694824             0              1             0               1   \n",
       "\n",
       "    avg_glucose_level       bmi  stroke  gender_Female  gender_Male  \\\n",
       "0            0.801265  0.301260       1              0            1   \n",
       "1            0.679023  0.212981       1              1            0   \n",
       "2            0.234512  0.254296       1              0            1   \n",
       "3            0.536008  0.276060       1              1            0   \n",
       "4            0.549349  0.156930       1              1            0   \n",
       "5            0.605161  0.214204       1              0            1   \n",
       "6            0.069107  0.195876       1              0            1   \n",
       "7            0.181285  0.143184       1              1            0   \n",
       "8            0.097082  0.212981       1              1            0   \n",
       "9            0.015927  0.159221       1              1            0   \n",
       "10           0.116841  0.222222       1              1            0   \n",
       "11           0.301634  0.303551       1              1            0   \n",
       "12           0.228003  0.194731       1              1            0   \n",
       "13           0.760410  0.212981       1              0            1   \n",
       "14           0.733866  0.205040       1              1            0   \n",
       "15           0.518373  0.235968       1              1            0   \n",
       "16           0.630090  0.311569       1              0            1   \n",
       "17           0.767104  0.177549       1              0            1   \n",
       "18           0.157419  0.315006       1              1            0   \n",
       "19           0.747669  0.212981       1              0            1   \n",
       "\n",
       "    gender_Other  work_type_Govt_job  work_type_Never_worked  \\\n",
       "0              0                   0                       0   \n",
       "1              0                   0                       0   \n",
       "2              0                   0                       0   \n",
       "3              0                   0                       0   \n",
       "4              0                   0                       0   \n",
       "5              0                   0                       0   \n",
       "6              0                   0                       0   \n",
       "7              0                   0                       0   \n",
       "8              0                   0                       0   \n",
       "9              0                   0                       0   \n",
       "10             0                   0                       0   \n",
       "11             0                   1                       0   \n",
       "12             0                   0                       0   \n",
       "13             0                   0                       0   \n",
       "14             0                   0                       0   \n",
       "15             0                   0                       0   \n",
       "16             0                   0                       0   \n",
       "17             0                   0                       0   \n",
       "18             0                   0                       0   \n",
       "19             0                   1                       0   \n",
       "\n",
       "    work_type_Private  work_type_Self-employed  work_type_children  \\\n",
       "0                   1                        0                   0   \n",
       "1                   0                        1                   0   \n",
       "2                   1                        0                   0   \n",
       "3                   1                        0                   0   \n",
       "4                   0                        1                   0   \n",
       "5                   1                        0                   0   \n",
       "6                   1                        0                   0   \n",
       "7                   1                        0                   0   \n",
       "8                   1                        0                   0   \n",
       "9                   1                        0                   0   \n",
       "10                  1                        0                   0   \n",
       "11                  0                        0                   0   \n",
       "12                  1                        0                   0   \n",
       "13                  1                        0                   0   \n",
       "14                  1                        0                   0   \n",
       "15                  0                        1                   0   \n",
       "16                  1                        0                   0   \n",
       "17                  1                        0                   0   \n",
       "18                  1                        0                   0   \n",
       "19                  0                        0                   0   \n",
       "\n",
       "    smoking_status_Unknown  smoking_status_formerly smoked  \\\n",
       "0                        0                               1   \n",
       "1                        0                               0   \n",
       "2                        0                               0   \n",
       "3                        0                               0   \n",
       "4                        0                               0   \n",
       "5                        0                               1   \n",
       "6                        0                               0   \n",
       "7                        0                               0   \n",
       "8                        1                               0   \n",
       "9                        1                               0   \n",
       "10                       0                               0   \n",
       "11                       0                               0   \n",
       "12                       0                               0   \n",
       "13                       1                               0   \n",
       "14                       0                               0   \n",
       "15                       0                               0   \n",
       "16                       0                               0   \n",
       "17                       0                               0   \n",
       "18                       0                               0   \n",
       "19                       1                               0   \n",
       "\n",
       "    smoking_status_never smoked  smoking_status_smokes  \n",
       "0                             0                      0  \n",
       "1                             1                      0  \n",
       "2                             1                      0  \n",
       "3                             0                      1  \n",
       "4                             1                      0  \n",
       "5                             0                      0  \n",
       "6                             1                      0  \n",
       "7                             1                      0  \n",
       "8                             0                      0  \n",
       "9                             0                      0  \n",
       "10                            1                      0  \n",
       "11                            0                      1  \n",
       "12                            0                      1  \n",
       "13                            0                      0  \n",
       "14                            1                      0  \n",
       "15                            1                      0  \n",
       "16                            0                      1  \n",
       "17                            0                      1  \n",
       "18                            1                      0  \n",
       "19                            0                      0  "
      ]
     },
     "execution_count": 44,
     "metadata": {},
     "output_type": "execute_result"
    }
   ],
   "source": [
    "df.head(20)"
   ]
  },
  {
   "cell_type": "code",
   "execution_count": 45,
   "metadata": {},
   "outputs": [
    {
     "data": {
      "text/plain": [
       "Index(['age', 'hypertension', 'heart_disease', 'ever_married',\n",
       "       'Residence_type', 'avg_glucose_level', 'bmi', 'stroke', 'gender_Female',\n",
       "       'gender_Male', 'gender_Other', 'work_type_Govt_job',\n",
       "       'work_type_Never_worked', 'work_type_Private',\n",
       "       'work_type_Self-employed', 'work_type_children',\n",
       "       'smoking_status_Unknown', 'smoking_status_formerly smoked',\n",
       "       'smoking_status_never smoked', 'smoking_status_smokes'],\n",
       "      dtype='object')"
      ]
     },
     "execution_count": 45,
     "metadata": {},
     "output_type": "execute_result"
    }
   ],
   "source": [
    "df.keys()"
   ]
  },
  {
   "cell_type": "code",
   "execution_count": 46,
   "metadata": {},
   "outputs": [],
   "source": [
    "df.drop(['gender_Other','work_type_Govt_job','smoking_status_Unknown'],axis=1,inplace=True)"
   ]
  },
  {
   "cell_type": "code",
   "execution_count": 47,
   "metadata": {},
   "outputs": [],
   "source": [
    "stroke_df=df[df.stroke==1]\n",
    "nonstroke_df=df[df.stroke==0]"
   ]
  },
  {
   "cell_type": "code",
   "execution_count": 48,
   "metadata": {},
   "outputs": [],
   "source": [
    "def get_score(model,X_train,y_train,X_test,y_test):\n",
    "    model.fit(X_train,y_train)\n",
    "    return model.score(X_test,y_test)"
   ]
  },
  {
   "cell_type": "code",
   "execution_count": 71,
   "metadata": {},
   "outputs": [],
   "source": [
    "#function to get the data and make nn model\n",
    "def ANN(X_train, y_train, X_test, y_test, loss, weights):\n",
    "    model = keras.Sequential([\n",
    "        keras.layers.Dense(16, input_dim=16, activation='relu'),\n",
    "        keras.layers.Dense(10, activation='relu'),\n",
    "        keras.layers.Dense(1, activation='sigmoid')\n",
    "    ])\n",
    "\n",
    "    model.compile(optimizer='adam', loss=loss, metrics=['accuracy'])\n",
    "\n",
    "    if weights == -1:\n",
    "        model.fit(X_train, y_train, epochs=100)\n",
    "    else:\n",
    "        model.fit(X_train, y_train, epochs=100, class_weight=weights)\n",
    "\n",
    "    print(model.evaluate(X_test, y_test))\n",
    "\n",
    "    y_preds = model.predict(X_test)\n",
    "    y_preds = np.round(y_preds)\n",
    "\n",
    "    print(\"Classification Report: \\n\", classification_report(y_test, y_preds))\n",
    "\n",
    "    return y_preds\n"
   ]
  },
  {
   "cell_type": "code",
   "execution_count": 50,
   "metadata": {},
   "outputs": [
    {
     "name": "stdout",
     "output_type": "stream",
     "text": [
      "Stroke = 0: 4861\n",
      "Stroke = 1: 249\n"
     ]
    }
   ],
   "source": [
    "count_class_0, count_class_1 = df.stroke.value_counts()\n",
    "\n",
    "print(\"Stroke = 0:\",count_class_0)\n",
    "print(\"Stroke = 1:\", count_class_1)\n"
   ]
  },
  {
   "attachments": {},
   "cell_type": "markdown",
   "metadata": {},
   "source": [
    "we have 4861 without stroke and 249 with\n",
    "if we trained the model with this impalance almost the result will be always 0 and the accuracy will be high\n",
    "first we will repeat the data with stroke so the number of tuples will be equal in both but will be there a dublications(this solution if frequently better when data is small)"
   ]
  },
  {
   "cell_type": "code",
   "execution_count": 51,
   "metadata": {},
   "outputs": [
    {
     "name": "stdout",
     "output_type": "stream",
     "text": [
      "Random over-sampling:\n",
      "0    4861\n",
      "1    4861\n",
      "Name: stroke, dtype: int64\n"
     ]
    }
   ],
   "source": [
    "# Oversample 1-class and concat the DataFrames of both classes\n",
    "df_class_1_over = stroke_df.sample(count_class_0, replace=True)\n",
    "df_test_over = pd.concat([nonstroke_df, df_class_1_over], axis=0)\n",
    "\n",
    "print('Random over-sampling:')\n",
    "print(df_test_over.stroke.value_counts())"
   ]
  },
  {
   "cell_type": "code",
   "execution_count": 52,
   "metadata": {},
   "outputs": [],
   "source": [
    "X = df_test_over.drop('stroke', axis='columns')\n",
    "y = df_test_over['stroke']\n",
    "\n",
    "X_train, X_test, y_train, y_test = train_test_split(\n",
    "    X, y, test_size=0.2, random_state=15, stratify=y)\n"
   ]
  },
  {
   "cell_type": "code",
   "execution_count": 53,
   "metadata": {},
   "outputs": [
    {
     "data": {
      "text/plain": [
       "1    3889\n",
       "0    3888\n",
       "Name: stroke, dtype: int64"
      ]
     },
     "execution_count": 53,
     "metadata": {},
     "output_type": "execute_result"
    }
   ],
   "source": [
    "y_train.value_counts()\n"
   ]
  },
  {
   "cell_type": "code",
   "execution_count": 54,
   "metadata": {},
   "outputs": [
    {
     "data": {
      "text/plain": [
       "Index(['age', 'hypertension', 'heart_disease', 'ever_married',\n",
       "       'Residence_type', 'avg_glucose_level', 'bmi', 'stroke', 'gender_Female',\n",
       "       'gender_Male', 'work_type_Never_worked', 'work_type_Private',\n",
       "       'work_type_Self-employed', 'work_type_children',\n",
       "       'smoking_status_formerly smoked', 'smoking_status_never smoked',\n",
       "       'smoking_status_smokes'],\n",
       "      dtype='object')"
      ]
     },
     "execution_count": 54,
     "metadata": {},
     "output_type": "execute_result"
    }
   ],
   "source": [
    "df.columns"
   ]
  },
  {
   "cell_type": "code",
   "execution_count": 55,
   "metadata": {},
   "outputs": [
    {
     "name": "stdout",
     "output_type": "stream",
     "text": [
      "[0.97879177 0.9781491  0.98778135 0.97106109 0.96977492]\n",
      "0.9771116474760083\n"
     ]
    }
   ],
   "source": [
    "bag_model = BaggingClassifier(base_estimator=DecisionTreeClassifier(),\n",
    "                              n_estimators=100, max_samples=0.8, oob_score=True, random_state=0\n",
    "                              )\n",
    "scores = cross_val_score(bag_model, X_train, y_train, cv=5)\n",
    "bag_model.fit(X_train,y_train)\n",
    "print(scores)\n",
    "print(scores.mean())\n",
    "\n"
   ]
  },
  {
   "cell_type": "code",
   "execution_count": 56,
   "metadata": {},
   "outputs": [],
   "source": [
    "y_pred = bag_model.predict(X_test)\n",
    "cm = confusion_matrix(y_test, y_pred)"
   ]
  },
  {
   "cell_type": "code",
   "execution_count": 57,
   "metadata": {},
   "outputs": [
    {
     "name": "stdout",
     "output_type": "stream",
     "text": [
      "              precision    recall  f1-score   support\n",
      "\n",
      "           0       1.00      0.97      0.99       973\n",
      "           1       0.97      1.00      0.99       972\n",
      "\n",
      "    accuracy                           0.99      1945\n",
      "   macro avg       0.99      0.99      0.99      1945\n",
      "weighted avg       0.99      0.99      0.99      1945\n",
      "\n"
     ]
    },
    {
     "data": {
      "image/png": "[encoded data removed]",
      "text/plain": [
       "<Figure size 504x360 with 2 Axes>"
      ]
     },
     "metadata": {
      "needs_background": "light"
     },
     "output_type": "display_data"
    }
   ],
   "source": [
    "plt.figure(figsize=(7,5))\n",
    "sn.heatmap(cm,annot=True)\n",
    "plt.xlabel('Predicted')\n",
    "plt.ylabel('Truth')\n",
    "print(classification_report(y_test,y_pred))"
   ]
  },
  {
   "cell_type": "code",
   "execution_count": 58,
   "metadata": {},
   "outputs": [
    {
     "name": "stdout",
     "output_type": "stream",
     "text": [
      "0.790745501285347\n"
     ]
    },
    {
     "name": "stderr",
     "output_type": "stream",
     "text": [
      "d:\\anacona3\\lib\\site-packages\\sklearn\\linear_model\\_logistic.py:814: ConvergenceWarning: lbfgs failed to converge (status=1):\n",
      "STOP: TOTAL NO. of ITERATIONS REACHED LIMIT.\n",
      "\n",
      "Increase the number of iterations (max_iter) or scale the data as shown in:\n",
      "    https://scikit-learn.org/stable/modules/preprocessing.html\n",
      "Please also refer to the documentation for alternative solver options:\n",
      "    https://scikit-learn.org/stable/modules/linear_model.html#logistic-regression\n",
      "  n_iter_i = _check_optimize_result(\n"
     ]
    }
   ],
   "source": [
    "from sklearn.linear_model import LogisticRegression\n",
    "model = LogisticRegression(max_iter=50)\n",
    "model.fit(X_train, y_train)\n",
    "print(model.score(X_test, y_test))\n"
   ]
  },
  {
   "cell_type": "code",
   "execution_count": 59,
   "metadata": {},
   "outputs": [],
   "source": [
    "y_pred = model.predict(X_test)\n",
    "cm = confusion_matrix(y_test, y_pred)"
   ]
  },
  {
   "cell_type": "code",
   "execution_count": 60,
   "metadata": {},
   "outputs": [
    {
     "name": "stdout",
     "output_type": "stream",
     "text": [
      "              precision    recall  f1-score   support\n",
      "\n",
      "           0       0.82      0.75      0.78       973\n",
      "           1       0.77      0.83      0.80       972\n",
      "\n",
      "    accuracy                           0.79      1945\n",
      "   macro avg       0.79      0.79      0.79      1945\n",
      "weighted avg       0.79      0.79      0.79      1945\n",
      "\n"
     ]
    },
    {
     "data": {
      "image/png": "[encoded data removed]",
      "text/plain": [
       "<Figure size 504x360 with 2 Axes>"
      ]
     },
     "metadata": {
      "needs_background": "light"
     },
     "output_type": "display_data"
    }
   ],
   "source": [
    "plt.figure(figsize=(7,5))\n",
    "sn.heatmap(cm,annot=True)\n",
    "plt.xlabel('Predicted')\n",
    "plt.ylabel('Truth')\n",
    "print(classification_report(y_test,y_pred))"
   ]
  },
  {
   "cell_type": "code",
   "execution_count": 61,
   "metadata": {},
   "outputs": [
    {
     "name": "stdout",
     "output_type": "stream",
     "text": [
      "0.8940874035989718\n"
     ]
    }
   ],
   "source": [
    "from sklearn.neighbors import KNeighborsClassifier\n",
    "knn = KNeighborsClassifier(n_neighbors=10)\n",
    "knn.fit(X_train, y_train)\n",
    "print(knn.score(X_test, y_test))"
   ]
  },
  {
   "cell_type": "code",
   "execution_count": 62,
   "metadata": {},
   "outputs": [],
   "source": [
    "y_pred = knn.predict(X_test)\n",
    "cm = confusion_matrix(y_test, y_pred)"
   ]
  },
  {
   "cell_type": "code",
   "execution_count": 63,
   "metadata": {},
   "outputs": [
    {
     "name": "stdout",
     "output_type": "stream",
     "text": [
      "              precision    recall  f1-score   support\n",
      "\n",
      "           0       1.00      0.79      0.88       973\n",
      "           1       0.83      1.00      0.90       972\n",
      "\n",
      "    accuracy                           0.89      1945\n",
      "   macro avg       0.91      0.89      0.89      1945\n",
      "weighted avg       0.91      0.89      0.89      1945\n",
      "\n"
     ]
    },
    {
     "data": {
      "image/png": "[encoded data removed]",
      "text/plain": [
       "<Figure size 504x360 with 2 Axes>"
      ]
     },
     "metadata": {
      "needs_background": "light"
     },
     "output_type": "display_data"
    }
   ],
   "source": [
    "plt.figure(figsize=(7,5))\n",
    "sn.heatmap(cm,annot=True)\n",
    "plt.xlabel('Predicted')\n",
    "plt.ylabel('Truth')\n",
    "print(classification_report(y_test,y_pred))"
   ]
  },
  {
   "cell_type": "code",
   "execution_count": 64,
   "metadata": {},
   "outputs": [
    {
     "name": "stdout",
     "output_type": "stream",
     "text": [
      "0.3735560197387816\n"
     ]
    }
   ],
   "source": [
    "from sklearn.linear_model import Ridge\n",
    "ridge_reg = Ridge(alpha=50, max_iter=100, tol=0.1)\n",
    "ridge_reg.fit(X_train, y_train)\n",
    "\n",
    "print(ridge_reg.score(X_test, y_test))"
   ]
  },
  {
   "cell_type": "code",
   "execution_count": 65,
   "metadata": {},
   "outputs": [],
   "source": [
    "# from sklearn.model_selection import KFold\n",
    "# from sklearn.svm import SVC\n",
    "# scores_l = []\n",
    "# scores_svm = []\n",
    "# scores_rf = []\n",
    "\n",
    "# kf = KFold(n_splits=3)\n",
    "\n",
    "# for train_index, test_index in kf.split(df):\n",
    "#     scores_l.append(get_score(LogisticRegression(),\n",
    "#                     X_train, y_train, X_test, y_test))\n",
    "#     scores_svm.append(get_score(SVC(), X_train, y_train, X_test, y_test))\n",
    "#     scores_rf.append(get_score(RandomForestClassifier(),\n",
    "#                      X_train, y_train, X_test, y_test))\n",
    "\n",
    "# print(scores_l)\n",
    "# print(scores_svm)\n",
    "# print(scores_rf)\n"
   ]
  },
  {
   "cell_type": "code",
   "execution_count": 66,
   "metadata": {},
   "outputs": [
    {
     "name": "stdout",
     "output_type": "stream",
     "text": [
      "0.9938303341902314\n"
     ]
    }
   ],
   "source": [
    "from sklearn.ensemble import RandomForestClassifier\n",
    "model = RandomForestClassifier(n_estimators=40)\n",
    "model.fit(X_train, y_train)\n",
    "\n",
    "print(model.score(X_test, y_test))"
   ]
  },
  {
   "cell_type": "code",
   "execution_count": 67,
   "metadata": {},
   "outputs": [],
   "source": [
    "y_pred = model.predict(X_test)\n",
    "cm = confusion_matrix(y_test, y_pred)"
   ]
  },
  {
   "cell_type": "code",
   "execution_count": 68,
   "metadata": {},
   "outputs": [
    {
     "name": "stdout",
     "output_type": "stream",
     "text": [
      "              precision    recall  f1-score   support\n",
      "\n",
      "           0       1.00      0.99      0.99       973\n",
      "           1       0.99      1.00      0.99       972\n",
      "\n",
      "    accuracy                           0.99      1945\n",
      "   macro avg       0.99      0.99      0.99      1945\n",
      "weighted avg       0.99      0.99      0.99      1945\n",
      "\n"
     ]
    },
    {
     "data": {
      "image/png": "[encoded data removed]",
      "text/plain": [
       "<Figure size 504x360 with 2 Axes>"
      ]
     },
     "metadata": {
      "needs_background": "light"
     },
     "output_type": "display_data"
    }
   ],
   "source": [
    "plt.figure(figsize=(7,5))\n",
    "sn.heatmap(cm,annot=True)\n",
    "plt.xlabel('Predicted')\n",
    "plt.ylabel('Truth')\n",
    "print(classification_report(y_test,y_pred))"
   ]
  },
  {
   "cell_type": "code",
   "execution_count": 69,
   "metadata": {},
   "outputs": [
    {
     "name": "stdout",
     "output_type": "stream",
     "text": [
      "              precision    recall  f1-score   support\n",
      "\n",
      "           0       0.84      0.76      0.80       973\n",
      "           1       0.78      0.86      0.82       972\n",
      "\n",
      "    accuracy                           0.81      1945\n",
      "   macro avg       0.81      0.81      0.81      1945\n",
      "weighted avg       0.81      0.81      0.81      1945\n",
      "\n",
      "              precision    recall  f1-score   support\n",
      "\n",
      "           0       1.00      0.98      0.99       973\n",
      "           1       0.98      1.00      0.99       972\n",
      "\n",
      "    accuracy                           0.99      1945\n",
      "   macro avg       0.99      0.99      0.99      1945\n",
      "weighted avg       0.99      0.99      0.99      1945\n",
      "\n"
     ]
    },
    {
     "name": "stderr",
     "output_type": "stream",
     "text": [
      "d:\\anacona3\\lib\\site-packages\\sklearn\\linear_model\\_logistic.py:814: ConvergenceWarning: lbfgs failed to converge (status=1):\n",
      "STOP: TOTAL NO. of ITERATIONS REACHED LIMIT.\n",
      "\n",
      "Increase the number of iterations (max_iter) or scale the data as shown in:\n",
      "    https://scikit-learn.org/stable/modules/preprocessing.html\n",
      "Please also refer to the documentation for alternative solver options:\n",
      "    https://scikit-learn.org/stable/modules/linear_model.html#logistic-regression\n",
      "  n_iter_i = _check_optimize_result(\n",
      "d:\\anacona3\\lib\\site-packages\\sklearn\\linear_model\\_logistic.py:814: ConvergenceWarning: lbfgs failed to converge (status=1):\n",
      "STOP: TOTAL NO. of ITERATIONS REACHED LIMIT.\n",
      "\n",
      "Increase the number of iterations (max_iter) or scale the data as shown in:\n",
      "    https://scikit-learn.org/stable/modules/preprocessing.html\n",
      "Please also refer to the documentation for alternative solver options:\n",
      "    https://scikit-learn.org/stable/modules/linear_model.html#logistic-regression\n",
      "  n_iter_i = _check_optimize_result(\n"
     ]
    },
    {
     "name": "stdout",
     "output_type": "stream",
     "text": [
      "              precision    recall  f1-score   support\n",
      "\n",
      "           0       0.82      0.75      0.78       973\n",
      "           1       0.77      0.83      0.80       972\n",
      "\n",
      "    accuracy                           0.79      1945\n",
      "   macro avg       0.79      0.79      0.79      1945\n",
      "weighted avg       0.79      0.79      0.79      1945\n",
      "\n",
      "                 model  best_score                 best_params\n",
      "0                  svm    0.791179  {'C': 20, 'kernel': 'rbf'}\n",
      "1        random_forest    0.986241        {'n_estimators': 10}\n",
      "2  logistic_regression    0.771122                   {'C': 10}\n"
     ]
    },
    {
     "name": "stderr",
     "output_type": "stream",
     "text": [
      "d:\\anacona3\\lib\\site-packages\\sklearn\\linear_model\\_logistic.py:814: ConvergenceWarning: lbfgs failed to converge (status=1):\n",
      "STOP: TOTAL NO. of ITERATIONS REACHED LIMIT.\n",
      "\n",
      "Increase the number of iterations (max_iter) or scale the data as shown in:\n",
      "    https://scikit-learn.org/stable/modules/preprocessing.html\n",
      "Please also refer to the documentation for alternative solver options:\n",
      "    https://scikit-learn.org/stable/modules/linear_model.html#logistic-regression\n",
      "  n_iter_i = _check_optimize_result(\n"
     ]
    },
    {
     "data": {
      "image/png": "[encoded data removed]",
      "text/plain": [
       "<Figure size 504x360 with 2 Axes>"
      ]
     },
     "metadata": {
      "needs_background": "light"
     },
     "output_type": "display_data"
    },
    {
     "data": {
      "image/png": "[encoded data removed]",
      "text/plain": [
       "<Figure size 504x360 with 2 Axes>"
      ]
     },
     "metadata": {
      "needs_background": "light"
     },
     "output_type": "display_data"
    },
    {
     "data": {
      "image/png": "[encoded data removed]",
      "text/plain": [
       "<Figure size 504x360 with 2 Axes>"
      ]
     },
     "metadata": {
      "needs_background": "light"
     },
     "output_type": "display_data"
    }
   ],
   "source": [
    "from sklearn.model_selection import GridSearchCV\n",
    "model_param = {\n",
    "    'svm': {\n",
    "        'model': svm.SVC(gamma='auto'),\n",
    "        'params': {\n",
    "            'C': [1, 10, 20],\n",
    "            'kernel': ['rbf', 'linear']\n",
    "        }\n",
    "    },\n",
    "    'random_forest': {\n",
    "        'model': RandomForestClassifier(),\n",
    "        'params': {\n",
    "            'n_estimators': [1, 5, 10]\n",
    "        }\n",
    "    },\n",
    "    'logistic_regression': {\n",
    "        'model': LogisticRegression(),\n",
    "        'params': {\n",
    "            'C': [1, 5, 10]\n",
    "        }\n",
    "    }\n",
    "}\n",
    "\n",
    "scores = []\n",
    "for model_name, mp in model_param.items():\n",
    "    clf = GridSearchCV(mp['model'], mp['params'],\n",
    "                       cv=5, return_train_score=False)\n",
    "    clf.fit(X_train, y_train)\n",
    "    scores.append({\n",
    "        'model': model_name,\n",
    "        'best_score': clf.best_score_,\n",
    "        'best_params': clf.best_params_\n",
    "    })\n",
    "\n",
    "    y_pred = clf.predict(X_test)\n",
    "    cm = confusion_matrix(y_test, y_pred)\n",
    "    # print(cm)\n",
    "\n",
    "    plt.figure(figsize=(7, 5))\n",
    "    sn.heatmap(cm, annot=True)\n",
    "    plt.xlabel('Predicted')\n",
    "    plt.ylabel('Truth')\n",
    "    print(classification_report(y_test, y_pred))\n",
    "\n",
    "dfr = pd.DataFrame(scores, columns=['model', 'best_score', 'best_params'])\n",
    "print(dfr)\n"
   ]
  },
  {
   "cell_type": "code",
   "execution_count": 72,
   "metadata": {},
   "outputs": [
    {
     "name": "stdout",
     "output_type": "stream",
     "text": [
      "Epoch 1/100\n",
      "244/244 [==============================] - 3s 3ms/step - loss: 0.6351 - accuracy: 0.6245\n",
      "Epoch 2/100\n",
      "244/244 [==============================] - 1s 3ms/step - loss: 0.5471 - accuracy: 0.7212\n",
      "Epoch 3/100\n",
      "244/244 [==============================] - 1s 3ms/step - loss: 0.5047 - accuracy: 0.7532\n",
      "Epoch 4/100\n",
      "244/244 [==============================] - 1s 3ms/step - loss: 0.4861 - accuracy: 0.7721\n",
      "Epoch 5/100\n",
      "244/244 [==============================] - 1s 3ms/step - loss: 0.4722 - accuracy: 0.7814\n",
      "Epoch 6/100\n",
      "244/244 [==============================] - 1s 3ms/step - loss: 0.4656 - accuracy: 0.7831\n",
      "Epoch 7/100\n",
      "244/244 [==============================] - 1s 3ms/step - loss: 0.4584 - accuracy: 0.7885\n",
      "Epoch 8/100\n",
      "244/244 [==============================] - 1s 3ms/step - loss: 0.4549 - accuracy: 0.7881\n",
      "Epoch 9/100\n",
      "244/244 [==============================] - 1s 3ms/step - loss: 0.4540 - accuracy: 0.7925\n",
      "Epoch 10/100\n",
      "244/244 [==============================] - 1s 3ms/step - loss: 0.4498 - accuracy: 0.7912\n",
      "Epoch 11/100\n",
      "244/244 [==============================] - 1s 3ms/step - loss: 0.4459 - accuracy: 0.7945\n",
      "Epoch 12/100\n",
      "244/244 [==============================] - 1s 3ms/step - loss: 0.4436 - accuracy: 0.7935\n",
      "Epoch 13/100\n",
      "244/244 [==============================] - 1s 2ms/step - loss: 0.4423 - accuracy: 0.7947\n",
      "Epoch 14/100\n",
      "244/244 [==============================] - 1s 3ms/step - loss: 0.4412 - accuracy: 0.7944\n",
      "Epoch 15/100\n",
      "244/244 [==============================] - 1s 3ms/step - loss: 0.4375 - accuracy: 0.7941\n",
      "Epoch 16/100\n",
      "244/244 [==============================] - 1s 3ms/step - loss: 0.4364 - accuracy: 0.7918\n",
      "Epoch 17/100\n",
      "244/244 [==============================] - 1s 3ms/step - loss: 0.4326 - accuracy: 0.7953\n",
      "Epoch 18/100\n",
      "244/244 [==============================] - 1s 3ms/step - loss: 0.4310 - accuracy: 0.7981\n",
      "Epoch 19/100\n",
      "244/244 [==============================] - 1s 3ms/step - loss: 0.4307 - accuracy: 0.7974\n",
      "Epoch 20/100\n",
      "244/244 [==============================] - 1s 3ms/step - loss: 0.4266 - accuracy: 0.7993\n",
      "Epoch 21/100\n",
      "244/244 [==============================] - 1s 3ms/step - loss: 0.4255 - accuracy: 0.7961\n",
      "Epoch 22/100\n",
      "244/244 [==============================] - 1s 3ms/step - loss: 0.4248 - accuracy: 0.8012\n",
      "Epoch 23/100\n",
      "244/244 [==============================] - 1s 2ms/step - loss: 0.4244 - accuracy: 0.7980\n",
      "Epoch 24/100\n",
      "244/244 [==============================] - 1s 3ms/step - loss: 0.4206 - accuracy: 0.7994\n",
      "Epoch 25/100\n",
      "244/244 [==============================] - 1s 3ms/step - loss: 0.4193 - accuracy: 0.8022\n",
      "Epoch 26/100\n",
      "244/244 [==============================] - 1s 3ms/step - loss: 0.4183 - accuracy: 0.8020\n",
      "Epoch 27/100\n",
      "244/244 [==============================] - 1s 3ms/step - loss: 0.4167 - accuracy: 0.8033\n",
      "Epoch 28/100\n",
      "244/244 [==============================] - 1s 3ms/step - loss: 0.4181 - accuracy: 0.8046\n",
      "Epoch 29/100\n",
      "244/244 [==============================] - 1s 3ms/step - loss: 0.4142 - accuracy: 0.8079\n",
      "Epoch 30/100\n",
      "244/244 [==============================] - 1s 3ms/step - loss: 0.4131 - accuracy: 0.8049\n",
      "Epoch 31/100\n",
      "244/244 [==============================] - 1s 3ms/step - loss: 0.4106 - accuracy: 0.8105\n",
      "Epoch 32/100\n",
      "244/244 [==============================] - 1s 3ms/step - loss: 0.4097 - accuracy: 0.8080\n",
      "Epoch 33/100\n",
      "244/244 [==============================] - 1s 3ms/step - loss: 0.4097 - accuracy: 0.8069\n",
      "Epoch 34/100\n",
      "244/244 [==============================] - 1s 3ms/step - loss: 0.4071 - accuracy: 0.8085\n",
      "Epoch 35/100\n",
      "244/244 [==============================] - 1s 3ms/step - loss: 0.4074 - accuracy: 0.8110\n",
      "Epoch 36/100\n",
      "244/244 [==============================] - 1s 3ms/step - loss: 0.4065 - accuracy: 0.8047\n",
      "Epoch 37/100\n",
      "244/244 [==============================] - 1s 3ms/step - loss: 0.4041 - accuracy: 0.8074\n",
      "Epoch 38/100\n",
      "244/244 [==============================] - 1s 3ms/step - loss: 0.4042 - accuracy: 0.8083\n",
      "Epoch 39/100\n",
      "244/244 [==============================] - 1s 3ms/step - loss: 0.4036 - accuracy: 0.8089\n",
      "Epoch 40/100\n",
      "244/244 [==============================] - 1s 3ms/step - loss: 0.4014 - accuracy: 0.8116\n",
      "Epoch 41/100\n",
      "244/244 [==============================] - 1s 3ms/step - loss: 0.4012 - accuracy: 0.8103\n",
      "Epoch 42/100\n",
      "244/244 [==============================] - 1s 3ms/step - loss: 0.4012 - accuracy: 0.8107\n",
      "Epoch 43/100\n",
      "244/244 [==============================] - 1s 3ms/step - loss: 0.3994 - accuracy: 0.8132\n",
      "Epoch 44/100\n",
      "244/244 [==============================] - 1s 3ms/step - loss: 0.3986 - accuracy: 0.8146\n",
      "Epoch 45/100\n",
      "244/244 [==============================] - 1s 3ms/step - loss: 0.3998 - accuracy: 0.8118\n",
      "Epoch 46/100\n",
      "244/244 [==============================] - 1s 3ms/step - loss: 0.3947 - accuracy: 0.8121\n",
      "Epoch 47/100\n",
      "244/244 [==============================] - 1s 3ms/step - loss: 0.3942 - accuracy: 0.8143\n",
      "Epoch 48/100\n",
      "244/244 [==============================] - 1s 3ms/step - loss: 0.3948 - accuracy: 0.8159\n",
      "Epoch 49/100\n",
      "244/244 [==============================] - 1s 3ms/step - loss: 0.3938 - accuracy: 0.8155\n",
      "Epoch 50/100\n",
      "244/244 [==============================] - 1s 3ms/step - loss: 0.3919 - accuracy: 0.8170\n",
      "Epoch 51/100\n",
      "244/244 [==============================] - 1s 3ms/step - loss: 0.3910 - accuracy: 0.8145\n",
      "Epoch 52/100\n",
      "244/244 [==============================] - 1s 3ms/step - loss: 0.3905 - accuracy: 0.8159\n",
      "Epoch 53/100\n",
      "244/244 [==============================] - 1s 3ms/step - loss: 0.3899 - accuracy: 0.8165\n",
      "Epoch 54/100\n",
      "244/244 [==============================] - 1s 3ms/step - loss: 0.3894 - accuracy: 0.8179\n",
      "Epoch 55/100\n",
      "244/244 [==============================] - 1s 3ms/step - loss: 0.3881 - accuracy: 0.8154\n",
      "Epoch 56/100\n",
      "244/244 [==============================] - 1s 3ms/step - loss: 0.3883 - accuracy: 0.8183\n",
      "Epoch 57/100\n",
      "244/244 [==============================] - 1s 3ms/step - loss: 0.3882 - accuracy: 0.8184\n",
      "Epoch 58/100\n",
      "244/244 [==============================] - 1s 3ms/step - loss: 0.3870 - accuracy: 0.8152\n",
      "Epoch 59/100\n",
      "244/244 [==============================] - 1s 3ms/step - loss: 0.3860 - accuracy: 0.8199\n",
      "Epoch 60/100\n",
      "244/244 [==============================] - 1s 3ms/step - loss: 0.3862 - accuracy: 0.8183\n",
      "Epoch 61/100\n",
      "244/244 [==============================] - 1s 3ms/step - loss: 0.3836 - accuracy: 0.8211\n",
      "Epoch 62/100\n",
      "244/244 [==============================] - 1s 3ms/step - loss: 0.3821 - accuracy: 0.8220\n",
      "Epoch 63/100\n",
      "244/244 [==============================] - 1s 3ms/step - loss: 0.3819 - accuracy: 0.8258\n",
      "Epoch 64/100\n",
      "244/244 [==============================] - 1s 3ms/step - loss: 0.3899 - accuracy: 0.8182\n",
      "Epoch 65/100\n",
      "244/244 [==============================] - 1s 3ms/step - loss: 0.3808 - accuracy: 0.8237\n",
      "Epoch 66/100\n",
      "244/244 [==============================] - 1s 3ms/step - loss: 0.3808 - accuracy: 0.8226\n",
      "Epoch 67/100\n",
      "244/244 [==============================] - 1s 3ms/step - loss: 0.3804 - accuracy: 0.8227\n",
      "Epoch 68/100\n",
      "244/244 [==============================] - 1s 3ms/step - loss: 0.3787 - accuracy: 0.8226\n",
      "Epoch 69/100\n",
      "244/244 [==============================] - 1s 3ms/step - loss: 0.3809 - accuracy: 0.8229\n",
      "Epoch 70/100\n",
      "244/244 [==============================] - 1s 3ms/step - loss: 0.3778 - accuracy: 0.8268\n",
      "Epoch 71/100\n",
      "244/244 [==============================] - 1s 3ms/step - loss: 0.3764 - accuracy: 0.8277\n",
      "Epoch 72/100\n",
      "244/244 [==============================] - 1s 3ms/step - loss: 0.3767 - accuracy: 0.8287\n",
      "Epoch 73/100\n",
      "244/244 [==============================] - 1s 3ms/step - loss: 0.3773 - accuracy: 0.8283\n",
      "Epoch 74/100\n",
      "244/244 [==============================] - 1s 3ms/step - loss: 0.3752 - accuracy: 0.8271\n",
      "Epoch 75/100\n",
      "244/244 [==============================] - 1s 3ms/step - loss: 0.3746 - accuracy: 0.8278\n",
      "Epoch 76/100\n",
      "244/244 [==============================] - 1s 3ms/step - loss: 0.3729 - accuracy: 0.8278\n",
      "Epoch 77/100\n",
      "244/244 [==============================] - 1s 3ms/step - loss: 0.3741 - accuracy: 0.8264\n",
      "Epoch 78/100\n",
      "244/244 [==============================] - 1s 3ms/step - loss: 0.3743 - accuracy: 0.8229\n",
      "Epoch 79/100\n",
      "244/244 [==============================] - 1s 3ms/step - loss: 0.3729 - accuracy: 0.8277\n",
      "Epoch 80/100\n",
      "244/244 [==============================] - 1s 3ms/step - loss: 0.3726 - accuracy: 0.8271\n",
      "Epoch 81/100\n",
      "244/244 [==============================] - 1s 3ms/step - loss: 0.3742 - accuracy: 0.8242\n",
      "Epoch 82/100\n",
      "244/244 [==============================] - 1s 3ms/step - loss: 0.3719 - accuracy: 0.8286\n",
      "Epoch 83/100\n",
      "244/244 [==============================] - 1s 3ms/step - loss: 0.3751 - accuracy: 0.8281\n",
      "Epoch 84/100\n",
      "244/244 [==============================] - 1s 3ms/step - loss: 0.3695 - accuracy: 0.8300\n",
      "Epoch 85/100\n",
      "244/244 [==============================] - 1s 3ms/step - loss: 0.3681 - accuracy: 0.8301\n",
      "Epoch 86/100\n",
      "244/244 [==============================] - 1s 3ms/step - loss: 0.3680 - accuracy: 0.8295\n",
      "Epoch 87/100\n",
      "244/244 [==============================] - 1s 3ms/step - loss: 0.3682 - accuracy: 0.8328\n",
      "Epoch 88/100\n",
      "244/244 [==============================] - 1s 3ms/step - loss: 0.3672 - accuracy: 0.8317\n",
      "Epoch 89/100\n",
      "244/244 [==============================] - 1s 3ms/step - loss: 0.3666 - accuracy: 0.8336\n",
      "Epoch 90/100\n",
      "244/244 [==============================] - 1s 3ms/step - loss: 0.3655 - accuracy: 0.8323\n",
      "Epoch 91/100\n",
      "244/244 [==============================] - 1s 3ms/step - loss: 0.3671 - accuracy: 0.8319\n",
      "Epoch 92/100\n",
      "244/244 [==============================] - 1s 3ms/step - loss: 0.3661 - accuracy: 0.8343\n",
      "Epoch 93/100\n",
      "244/244 [==============================] - 1s 3ms/step - loss: 0.3642 - accuracy: 0.8332\n",
      "Epoch 94/100\n",
      "244/244 [==============================] - 1s 3ms/step - loss: 0.3638 - accuracy: 0.8362\n",
      "Epoch 95/100\n",
      "244/244 [==============================] - 1s 3ms/step - loss: 0.3668 - accuracy: 0.8323\n",
      "Epoch 96/100\n",
      "244/244 [==============================] - 1s 3ms/step - loss: 0.3634 - accuracy: 0.8331\n",
      "Epoch 97/100\n",
      "244/244 [==============================] - 1s 3ms/step - loss: 0.3633 - accuracy: 0.8341\n",
      "Epoch 98/100\n",
      "244/244 [==============================] - 1s 3ms/step - loss: 0.3628 - accuracy: 0.8352\n",
      "Epoch 99/100\n",
      "244/244 [==============================] - 1s 3ms/step - loss: 0.3662 - accuracy: 0.8326\n",
      "Epoch 100/100\n",
      "244/244 [==============================] - 1s 3ms/step - loss: 0.3611 - accuracy: 0.8361\n",
      "61/61 [==============================] - 0s 2ms/step - loss: 0.3652 - accuracy: 0.8308\n",
      "[0.3651702404022217, 0.8308483362197876]\n",
      "61/61 [==============================] - 0s 831us/step\n",
      "Classification Report: \n",
      "               precision    recall  f1-score   support\n",
      "\n",
      "           0       0.92      0.73      0.81       973\n",
      "           1       0.77      0.93      0.85       972\n",
      "\n",
      "    accuracy                           0.83      1945\n",
      "   macro avg       0.85      0.83      0.83      1945\n",
      "weighted avg       0.85      0.83      0.83      1945\n",
      "\n"
     ]
    }
   ],
   "source": [
    "#nn model\n",
    "loss = keras.losses.BinaryCrossentropy()\n",
    "weights = -1\n",
    "y_preds = ANN(X_train, y_train, X_test, y_test, 'binary_crossentropy', -1)\n"
   ]
  },
  {
   "cell_type": "code",
   "execution_count": 73,
   "metadata": {},
   "outputs": [
    {
     "name": "stdout",
     "output_type": "stream",
     "text": [
      "              precision    recall  f1-score   support\n",
      "\n",
      "           0       0.82      0.75      0.78       973\n",
      "           1       0.77      0.83      0.80       972\n",
      "\n",
      "    accuracy                           0.79      1945\n",
      "   macro avg       0.79      0.79      0.79      1945\n",
      "weighted avg       0.79      0.79      0.79      1945\n",
      "\n"
     ]
    },
    {
     "data": {
      "image/png": "[encoded data removed]",
      "text/plain": [
       "<Figure size 504x360 with 2 Axes>"
      ]
     },
     "metadata": {
      "needs_background": "light"
     },
     "output_type": "display_data"
    }
   ],
   "source": [
    "cm = confusion_matrix(y_test, y_pred)\n",
    "# print(cm)\n",
    "\n",
    "plt.figure(figsize=(7, 5))\n",
    "sn.heatmap(cm, annot=True)\n",
    "plt.xlabel('Predicted')\n",
    "plt.ylabel('Truth')\n",
    "print(classification_report(y_test, y_pred))\n"
   ]
  },
  {
   "attachments": {},
   "cell_type": "markdown",
   "metadata": {},
   "source": [
    "second solution is to take a sample from non stroke data\n",
    "so there willn't be a duplications but we will lose some data"
   ]
  },
  {
   "cell_type": "code",
   "execution_count": 45,
   "metadata": {},
   "outputs": [
    {
     "name": "stdout",
     "output_type": "stream",
     "text": [
      "Random under-sampling:\n",
      "0    249\n",
      "1    249\n",
      "Name: stroke, dtype: int64\n"
     ]
    }
   ],
   "source": [
    "# Undersample 0-class and concat the DataFrames of both class\n",
    "df_class_0_under = nonstroke_df.sample(count_class_1)\n",
    "df_test_under = pd.concat([df_class_0_under, stroke_df], axis=0)\n",
    "\n",
    "print('Random under-sampling:')\n",
    "print(df_test_under.stroke.value_counts())\n"
   ]
  },
  {
   "cell_type": "code",
   "execution_count": 46,
   "metadata": {},
   "outputs": [],
   "source": [
    "from sklearn.model_selection import train_test_split\n",
    "X = df_test_under.drop('stroke', axis='columns')\n",
    "y = df_test_under['stroke']\n",
    "\n",
    "X_train, X_test, y_train, y_test = train_test_split(\n",
    "    X, y, test_size=0.2, random_state=15, stratify=y)\n"
   ]
  },
  {
   "cell_type": "code",
   "execution_count": 47,
   "metadata": {},
   "outputs": [
    {
     "data": {
      "text/plain": [
       "age                               100\n",
       "hypertension                      100\n",
       "heart_disease                     100\n",
       "ever_married                      100\n",
       "Residence_type                    100\n",
       "avg_glucose_level                 100\n",
       "bmi                               100\n",
       "gender_Female                     100\n",
       "gender_Male                       100\n",
       "gender_Other                      100\n",
       "work_type_Govt_job                100\n",
       "work_type_Never_worked            100\n",
       "work_type_Private                 100\n",
       "work_type_Self-employed           100\n",
       "work_type_children                100\n",
       "smoking_status_Unknown            100\n",
       "smoking_status_formerly smoked    100\n",
       "smoking_status_never smoked       100\n",
       "smoking_status_smokes             100\n",
       "dtype: int64"
      ]
     },
     "execution_count": 47,
     "metadata": {},
     "output_type": "execute_result"
    }
   ],
   "source": [
    "X_test.count()\n"
   ]
  },
  {
   "cell_type": "code",
   "execution_count": 48,
   "metadata": {},
   "outputs": [
    {
     "name": "stdout",
     "output_type": "stream",
     "text": [
      "Epoch 1/100\n",
      "13/13 [==============================] - 0s 3ms/step - loss: 0.6792 - accuracy: 0.5553\n",
      "Epoch 2/100\n",
      "13/13 [==============================] - 0s 3ms/step - loss: 0.6680 - accuracy: 0.5930\n",
      "Epoch 3/100\n",
      "13/13 [==============================] - 0s 4ms/step - loss: 0.6586 - accuracy: 0.6231\n",
      "Epoch 4/100\n",
      "13/13 [==============================] - 0s 3ms/step - loss: 0.6504 - accuracy: 0.6508\n",
      "Epoch 5/100\n",
      "13/13 [==============================] - 0s 3ms/step - loss: 0.6424 - accuracy: 0.6583\n",
      "Epoch 6/100\n",
      "13/13 [==============================] - 0s 3ms/step - loss: 0.6347 - accuracy: 0.6734\n",
      "Epoch 7/100\n",
      "13/13 [==============================] - 0s 3ms/step - loss: 0.6279 - accuracy: 0.6809\n",
      "Epoch 8/100\n",
      "13/13 [==============================] - 0s 3ms/step - loss: 0.6206 - accuracy: 0.6784\n",
      "Epoch 9/100\n",
      "13/13 [==============================] - 0s 4ms/step - loss: 0.6140 - accuracy: 0.6834\n",
      "Epoch 10/100\n",
      "13/13 [==============================] - 0s 3ms/step - loss: 0.6064 - accuracy: 0.6960\n",
      "Epoch 11/100\n",
      "13/13 [==============================] - 0s 3ms/step - loss: 0.6001 - accuracy: 0.6935\n",
      "Epoch 12/100\n",
      "13/13 [==============================] - 0s 3ms/step - loss: 0.5935 - accuracy: 0.7035\n",
      "Epoch 13/100\n",
      "13/13 [==============================] - 0s 4ms/step - loss: 0.5872 - accuracy: 0.7085\n",
      "Epoch 14/100\n",
      "13/13 [==============================] - 0s 3ms/step - loss: 0.5811 - accuracy: 0.7337\n",
      "Epoch 15/100\n",
      "13/13 [==============================] - 0s 3ms/step - loss: 0.5749 - accuracy: 0.7312\n",
      "Epoch 16/100\n",
      "13/13 [==============================] - 0s 3ms/step - loss: 0.5695 - accuracy: 0.7487\n",
      "Epoch 17/100\n",
      "13/13 [==============================] - 0s 3ms/step - loss: 0.5636 - accuracy: 0.7462\n",
      "Epoch 18/100\n",
      "13/13 [==============================] - 0s 3ms/step - loss: 0.5586 - accuracy: 0.7487\n",
      "Epoch 19/100\n",
      "13/13 [==============================] - 0s 3ms/step - loss: 0.5529 - accuracy: 0.7563\n",
      "Epoch 20/100\n",
      "13/13 [==============================] - 0s 3ms/step - loss: 0.5483 - accuracy: 0.7538\n",
      "Epoch 21/100\n",
      "13/13 [==============================] - 0s 3ms/step - loss: 0.5434 - accuracy: 0.7563\n",
      "Epoch 22/100\n",
      "13/13 [==============================] - 0s 3ms/step - loss: 0.5387 - accuracy: 0.7538\n",
      "Epoch 23/100\n",
      "13/13 [==============================] - 0s 3ms/step - loss: 0.5360 - accuracy: 0.7513\n",
      "Epoch 24/100\n",
      "13/13 [==============================] - 0s 3ms/step - loss: 0.5316 - accuracy: 0.7462\n",
      "Epoch 25/100\n",
      "13/13 [==============================] - 0s 3ms/step - loss: 0.5273 - accuracy: 0.7588\n",
      "Epoch 26/100\n",
      "13/13 [==============================] - 0s 3ms/step - loss: 0.5231 - accuracy: 0.7613\n",
      "Epoch 27/100\n",
      "13/13 [==============================] - 0s 3ms/step - loss: 0.5209 - accuracy: 0.7487\n",
      "Epoch 28/100\n",
      "13/13 [==============================] - 0s 3ms/step - loss: 0.5161 - accuracy: 0.7588\n",
      "Epoch 29/100\n",
      "13/13 [==============================] - 0s 3ms/step - loss: 0.5151 - accuracy: 0.7538\n",
      "Epoch 30/100\n",
      "13/13 [==============================] - 0s 3ms/step - loss: 0.5088 - accuracy: 0.7538\n",
      "Epoch 31/100\n",
      "13/13 [==============================] - 0s 3ms/step - loss: 0.5051 - accuracy: 0.7588\n",
      "Epoch 32/100\n",
      "13/13 [==============================] - 0s 4ms/step - loss: 0.5019 - accuracy: 0.7663\n",
      "Epoch 33/100\n",
      "13/13 [==============================] - 0s 3ms/step - loss: 0.4990 - accuracy: 0.7638\n",
      "Epoch 34/100\n",
      "13/13 [==============================] - 0s 3ms/step - loss: 0.4982 - accuracy: 0.7714\n",
      "Epoch 35/100\n",
      "13/13 [==============================] - 0s 3ms/step - loss: 0.4938 - accuracy: 0.7688\n",
      "Epoch 36/100\n",
      "13/13 [==============================] - 0s 3ms/step - loss: 0.4917 - accuracy: 0.7688\n",
      "Epoch 37/100\n",
      "13/13 [==============================] - 0s 3ms/step - loss: 0.4890 - accuracy: 0.7688\n",
      "Epoch 38/100\n",
      "13/13 [==============================] - 0s 3ms/step - loss: 0.4868 - accuracy: 0.7714\n",
      "Epoch 39/100\n",
      "13/13 [==============================] - 0s 3ms/step - loss: 0.4847 - accuracy: 0.7688\n",
      "Epoch 40/100\n",
      "13/13 [==============================] - 0s 3ms/step - loss: 0.4833 - accuracy: 0.7739\n",
      "Epoch 41/100\n",
      "13/13 [==============================] - 0s 3ms/step - loss: 0.4837 - accuracy: 0.7688\n",
      "Epoch 42/100\n",
      "13/13 [==============================] - 0s 3ms/step - loss: 0.4799 - accuracy: 0.7764\n",
      "Epoch 43/100\n",
      "13/13 [==============================] - 0s 3ms/step - loss: 0.4778 - accuracy: 0.7739\n",
      "Epoch 44/100\n",
      "13/13 [==============================] - 0s 3ms/step - loss: 0.4761 - accuracy: 0.7739\n",
      "Epoch 45/100\n",
      "13/13 [==============================] - 0s 3ms/step - loss: 0.4746 - accuracy: 0.7789\n",
      "Epoch 46/100\n",
      "13/13 [==============================] - 0s 3ms/step - loss: 0.4740 - accuracy: 0.7814\n",
      "Epoch 47/100\n",
      "13/13 [==============================] - 0s 3ms/step - loss: 0.4733 - accuracy: 0.7839\n",
      "Epoch 48/100\n",
      "13/13 [==============================] - 0s 3ms/step - loss: 0.4715 - accuracy: 0.7764\n",
      "Epoch 49/100\n",
      "13/13 [==============================] - 0s 3ms/step - loss: 0.4695 - accuracy: 0.7839\n",
      "Epoch 50/100\n",
      "13/13 [==============================] - 0s 3ms/step - loss: 0.4695 - accuracy: 0.7814\n",
      "Epoch 51/100\n",
      "13/13 [==============================] - 0s 3ms/step - loss: 0.4695 - accuracy: 0.7789\n",
      "Epoch 52/100\n",
      "13/13 [==============================] - 0s 3ms/step - loss: 0.4670 - accuracy: 0.7839\n",
      "Epoch 53/100\n",
      "13/13 [==============================] - 0s 3ms/step - loss: 0.4660 - accuracy: 0.7814\n",
      "Epoch 54/100\n",
      "13/13 [==============================] - 0s 3ms/step - loss: 0.4663 - accuracy: 0.7864\n",
      "Epoch 55/100\n",
      "13/13 [==============================] - 0s 3ms/step - loss: 0.4642 - accuracy: 0.7764\n",
      "Epoch 56/100\n",
      "13/13 [==============================] - 0s 3ms/step - loss: 0.4611 - accuracy: 0.7864\n",
      "Epoch 57/100\n",
      "13/13 [==============================] - 0s 3ms/step - loss: 0.4626 - accuracy: 0.7889\n",
      "Epoch 58/100\n",
      "13/13 [==============================] - 0s 3ms/step - loss: 0.4600 - accuracy: 0.7814\n",
      "Epoch 59/100\n",
      "13/13 [==============================] - 0s 3ms/step - loss: 0.4588 - accuracy: 0.7814\n",
      "Epoch 60/100\n",
      "13/13 [==============================] - 0s 3ms/step - loss: 0.4577 - accuracy: 0.7864\n",
      "Epoch 61/100\n",
      "13/13 [==============================] - 0s 3ms/step - loss: 0.4588 - accuracy: 0.7864\n",
      "Epoch 62/100\n",
      "13/13 [==============================] - 0s 3ms/step - loss: 0.4567 - accuracy: 0.7864\n",
      "Epoch 63/100\n",
      "13/13 [==============================] - 0s 3ms/step - loss: 0.4549 - accuracy: 0.7839\n",
      "Epoch 64/100\n",
      "13/13 [==============================] - 0s 3ms/step - loss: 0.4576 - accuracy: 0.7864\n",
      "Epoch 65/100\n",
      "13/13 [==============================] - 0s 3ms/step - loss: 0.4527 - accuracy: 0.7915\n",
      "Epoch 66/100\n",
      "13/13 [==============================] - 0s 3ms/step - loss: 0.4537 - accuracy: 0.7889\n",
      "Epoch 67/100\n",
      "13/13 [==============================] - 0s 3ms/step - loss: 0.4602 - accuracy: 0.7864\n",
      "Epoch 68/100\n",
      "13/13 [==============================] - 0s 3ms/step - loss: 0.4506 - accuracy: 0.7915\n",
      "Epoch 69/100\n",
      "13/13 [==============================] - 0s 3ms/step - loss: 0.4522 - accuracy: 0.7889\n",
      "Epoch 70/100\n",
      "13/13 [==============================] - 0s 3ms/step - loss: 0.4552 - accuracy: 0.7864\n",
      "Epoch 71/100\n",
      "13/13 [==============================] - 0s 3ms/step - loss: 0.4514 - accuracy: 0.7839\n",
      "Epoch 72/100\n",
      "13/13 [==============================] - 0s 3ms/step - loss: 0.4490 - accuracy: 0.7839\n",
      "Epoch 73/100\n",
      "13/13 [==============================] - 0s 3ms/step - loss: 0.4485 - accuracy: 0.7915\n",
      "Epoch 74/100\n",
      "13/13 [==============================] - 0s 3ms/step - loss: 0.4474 - accuracy: 0.7864\n",
      "Epoch 75/100\n",
      "13/13 [==============================] - 0s 3ms/step - loss: 0.4509 - accuracy: 0.7864\n",
      "Epoch 76/100\n",
      "13/13 [==============================] - 0s 3ms/step - loss: 0.4469 - accuracy: 0.7889\n",
      "Epoch 77/100\n",
      "13/13 [==============================] - 0s 3ms/step - loss: 0.4504 - accuracy: 0.7764\n",
      "Epoch 78/100\n",
      "13/13 [==============================] - 0s 3ms/step - loss: 0.4498 - accuracy: 0.7889\n",
      "Epoch 79/100\n",
      "13/13 [==============================] - 0s 3ms/step - loss: 0.4447 - accuracy: 0.7864\n",
      "Epoch 80/100\n",
      "13/13 [==============================] - 0s 3ms/step - loss: 0.4463 - accuracy: 0.7889\n",
      "Epoch 81/100\n",
      "13/13 [==============================] - 0s 3ms/step - loss: 0.4428 - accuracy: 0.7915\n",
      "Epoch 82/100\n",
      "13/13 [==============================] - 0s 3ms/step - loss: 0.4436 - accuracy: 0.7839\n",
      "Epoch 83/100\n",
      "13/13 [==============================] - 0s 3ms/step - loss: 0.4424 - accuracy: 0.7990\n",
      "Epoch 84/100\n",
      "13/13 [==============================] - 0s 3ms/step - loss: 0.4422 - accuracy: 0.7940\n",
      "Epoch 85/100\n",
      "13/13 [==============================] - 0s 3ms/step - loss: 0.4413 - accuracy: 0.7814\n",
      "Epoch 86/100\n",
      "13/13 [==============================] - 0s 3ms/step - loss: 0.4404 - accuracy: 0.7839\n",
      "Epoch 87/100\n",
      "13/13 [==============================] - 0s 3ms/step - loss: 0.4407 - accuracy: 0.7940\n",
      "Epoch 88/100\n",
      "13/13 [==============================] - 0s 3ms/step - loss: 0.4427 - accuracy: 0.7864\n",
      "Epoch 89/100\n",
      "13/13 [==============================] - 0s 3ms/step - loss: 0.4390 - accuracy: 0.7889\n",
      "Epoch 90/100\n",
      "13/13 [==============================] - 0s 3ms/step - loss: 0.4395 - accuracy: 0.7915\n",
      "Epoch 91/100\n",
      "13/13 [==============================] - 0s 3ms/step - loss: 0.4409 - accuracy: 0.7915\n",
      "Epoch 92/100\n",
      "13/13 [==============================] - 0s 3ms/step - loss: 0.4379 - accuracy: 0.7940\n",
      "Epoch 93/100\n",
      "13/13 [==============================] - 0s 3ms/step - loss: 0.4375 - accuracy: 0.7965\n",
      "Epoch 94/100\n",
      "13/13 [==============================] - 0s 3ms/step - loss: 0.4370 - accuracy: 0.7915\n",
      "Epoch 95/100\n",
      "13/13 [==============================] - 0s 3ms/step - loss: 0.4369 - accuracy: 0.7940\n",
      "Epoch 96/100\n",
      "13/13 [==============================] - 0s 3ms/step - loss: 0.4366 - accuracy: 0.7940\n",
      "Epoch 97/100\n",
      "13/13 [==============================] - 0s 3ms/step - loss: 0.4360 - accuracy: 0.7940\n",
      "Epoch 98/100\n",
      "13/13 [==============================] - 0s 3ms/step - loss: 0.4351 - accuracy: 0.7940\n",
      "Epoch 99/100\n",
      "13/13 [==============================] - 0s 3ms/step - loss: 0.4355 - accuracy: 0.7940\n",
      "Epoch 100/100\n",
      "13/13 [==============================] - 0s 3ms/step - loss: 0.4369 - accuracy: 0.7864\n",
      "4/4 [==============================] - 0s 2ms/step - loss: 0.5304 - accuracy: 0.8000\n",
      "[0.5303937792778015, 0.800000011920929]\n",
      "4/4 [==============================] - 0s 1ms/step\n",
      "Classification Report: \n",
      "               precision    recall  f1-score   support\n",
      "\n",
      "           0       0.81      0.78      0.80        50\n",
      "           1       0.79      0.82      0.80        50\n",
      "\n",
      "    accuracy                           0.80       100\n",
      "   macro avg       0.80      0.80      0.80       100\n",
      "weighted avg       0.80      0.80      0.80       100\n",
      "\n"
     ]
    }
   ],
   "source": [
    "y_pred2 = ANN(X_train, y_train, X_test, y_test, 'binary_crossentropy', -1)\n"
   ]
  },
  {
   "cell_type": "code",
   "execution_count": 49,
   "metadata": {},
   "outputs": [
    {
     "data": {
      "text/plain": [
       "100"
      ]
     },
     "execution_count": 49,
     "metadata": {},
     "output_type": "execute_result"
    }
   ],
   "source": [
    "len(y_pred2)"
   ]
  },
  {
   "cell_type": "code",
   "execution_count": 50,
   "metadata": {},
   "outputs": [
    {
     "data": {
      "text/plain": [
       "100"
      ]
     },
     "execution_count": 50,
     "metadata": {},
     "output_type": "execute_result"
    }
   ],
   "source": [
    "y_test.count()"
   ]
  },
  {
   "cell_type": "code",
   "execution_count": 51,
   "metadata": {},
   "outputs": [],
   "source": [
    "cm = confusion_matrix(y_test, y_pred2)"
   ]
  },
  {
   "cell_type": "code",
   "execution_count": 52,
   "metadata": {},
   "outputs": [
    {
     "name": "stdout",
     "output_type": "stream",
     "text": [
      "              precision    recall  f1-score   support\n",
      "\n",
      "           0       0.81      0.78      0.80        50\n",
      "           1       0.79      0.82      0.80        50\n",
      "\n",
      "    accuracy                           0.80       100\n",
      "   macro avg       0.80      0.80      0.80       100\n",
      "weighted avg       0.80      0.80      0.80       100\n",
      "\n"
     ]
    },
    {
     "data": {
      "image/png": "[encoded data removed]",
      "text/plain": [
       "<Figure size 504x360 with 2 Axes>"
      ]
     },
     "metadata": {
      "needs_background": "light"
     },
     "output_type": "display_data"
    }
   ],
   "source": [
    "plt.figure(figsize=(7, 5))\n",
    "sn.heatmap(cm, annot=True)\n",
    "plt.xlabel('Predicted')\n",
    "plt.ylabel('Truth')\n",
    "print(classification_report(y_test, y_pred2))\n"
   ]
  },
  {
   "cell_type": "code",
   "execution_count": 53,
   "metadata": {},
   "outputs": [
    {
     "name": "stdout",
     "output_type": "stream",
     "text": [
      "[0.7125     0.75       0.7125     0.72151899 0.74683544]\n",
      "0.7286708860759493\n"
     ]
    }
   ],
   "source": [
    "bag_model = BaggingClassifier(base_estimator=DecisionTreeClassifier(),\n",
    "                              n_estimators=100, max_samples=0.8, oob_score=True, random_state=0\n",
    "                              )\n",
    "scores = cross_val_score(bag_model, X_train, y_train, cv=5)\n",
    "bag_model.fit(X_train,y_train)\n",
    "print(scores)\n",
    "print(scores.mean())\n"
   ]
  },
  {
   "cell_type": "code",
   "execution_count": 54,
   "metadata": {},
   "outputs": [
    {
     "name": "stdout",
     "output_type": "stream",
     "text": [
      "              precision    recall  f1-score   support\n",
      "\n",
      "           0       0.78      0.76      0.77        50\n",
      "           1       0.76      0.78      0.77        50\n",
      "\n",
      "    accuracy                           0.77       100\n",
      "   macro avg       0.77      0.77      0.77       100\n",
      "weighted avg       0.77      0.77      0.77       100\n",
      "\n"
     ]
    },
    {
     "data": {
      "image/png": "[encoded data removed]",
      "text/plain": [
       "<Figure size 504x360 with 2 Axes>"
      ]
     },
     "metadata": {
      "needs_background": "light"
     },
     "output_type": "display_data"
    }
   ],
   "source": [
    "y_pred = bag_model.predict(X_test)\n",
    "cm = confusion_matrix(y_test, y_pred)\n",
    "# print(cm)\n",
    "\n",
    "plt.figure(figsize=(7, 5))\n",
    "sn.heatmap(cm, annot=True)\n",
    "plt.xlabel('Predicted')\n",
    "plt.ylabel('Truth')\n",
    "print(classification_report(y_test, y_pred))\n"
   ]
  },
  {
   "cell_type": "code",
   "execution_count": 55,
   "metadata": {},
   "outputs": [
    {
     "name": "stdout",
     "output_type": "stream",
     "text": [
      "0.77\n"
     ]
    }
   ],
   "source": [
    "from sklearn.linear_model import LogisticRegression\n",
    "model = LogisticRegression(max_iter=50)\n",
    "model.fit(X_train, y_train)\n",
    "print(model.score(X_test, y_test))\n"
   ]
  },
  {
   "cell_type": "code",
   "execution_count": 56,
   "metadata": {},
   "outputs": [
    {
     "name": "stdout",
     "output_type": "stream",
     "text": [
      "              precision    recall  f1-score   support\n",
      "\n",
      "           0       0.78      0.76      0.77        50\n",
      "           1       0.76      0.78      0.77        50\n",
      "\n",
      "    accuracy                           0.77       100\n",
      "   macro avg       0.77      0.77      0.77       100\n",
      "weighted avg       0.77      0.77      0.77       100\n",
      "\n"
     ]
    },
    {
     "data": {
      "image/png": "[encoded data removed]",
      "text/plain": [
       "<Figure size 504x360 with 2 Axes>"
      ]
     },
     "metadata": {
      "needs_background": "light"
     },
     "output_type": "display_data"
    }
   ],
   "source": [
    "y_pred = model.predict(X_test)\n",
    "cm = confusion_matrix(y_test, y_pred)\n",
    "# print(cm)\n",
    "\n",
    "plt.figure(figsize=(7, 5))\n",
    "sn.heatmap(cm, annot=True)\n",
    "plt.xlabel('Predicted')\n",
    "plt.ylabel('Truth')\n",
    "print(classification_report(y_test, y_pred))\n"
   ]
  },
  {
   "cell_type": "code",
   "execution_count": 57,
   "metadata": {},
   "outputs": [
    {
     "name": "stdout",
     "output_type": "stream",
     "text": [
      "0.6\n"
     ]
    }
   ],
   "source": [
    "from sklearn.neighbors import KNeighborsClassifier\n",
    "knn = KNeighborsClassifier(n_neighbors=10)\n",
    "knn.fit(X_train, y_train)\n",
    "print(knn.score(X_test, y_test))\n"
   ]
  },
  {
   "cell_type": "code",
   "execution_count": 58,
   "metadata": {},
   "outputs": [
    {
     "name": "stdout",
     "output_type": "stream",
     "text": [
      "              precision    recall  f1-score   support\n",
      "\n",
      "           0       0.58      0.72      0.64        50\n",
      "           1       0.63      0.48      0.55        50\n",
      "\n",
      "    accuracy                           0.60       100\n",
      "   macro avg       0.61      0.60      0.59       100\n",
      "weighted avg       0.61      0.60      0.59       100\n",
      "\n"
     ]
    },
    {
     "data": {
      "image/png": "[encoded data removed]",
      "text/plain": [
       "<Figure size 504x360 with 2 Axes>"
      ]
     },
     "metadata": {
      "needs_background": "light"
     },
     "output_type": "display_data"
    }
   ],
   "source": [
    "y_pred = knn.predict(X_test)\n",
    "cm = confusion_matrix(y_test, y_pred)\n",
    "# print(cm)\n",
    "\n",
    "plt.figure(figsize=(7, 5))\n",
    "sn.heatmap(cm, annot=True)\n",
    "plt.xlabel('Predicted')\n",
    "plt.ylabel('Truth')\n",
    "print(classification_report(y_test, y_pred))\n"
   ]
  },
  {
   "cell_type": "code",
   "execution_count": 59,
   "metadata": {},
   "outputs": [
    {
     "name": "stdout",
     "output_type": "stream",
     "text": [
      "0.1816073724804721\n"
     ]
    }
   ],
   "source": [
    "from sklearn.linear_model import Ridge\n",
    "ridge_reg = Ridge(alpha=50, max_iter=100, tol=0.1)\n",
    "ridge_reg.fit(X_train, y_train)\n",
    "\n",
    "print(ridge_reg.score(X_test, y_test))\n"
   ]
  },
  {
   "cell_type": "code",
   "execution_count": 60,
   "metadata": {},
   "outputs": [],
   "source": [
    "# from sklearn.model_selection import KFold\n",
    "# from sklearn.svm import SVC\n",
    "# scores_l = []\n",
    "# scores_svm = []\n",
    "# scores_rf = []\n",
    "\n",
    "# kf = KFold(n_splits=3)\n",
    "\n",
    "# for train_index, test_index in kf.split(df):\n",
    "#     scores_l.append(get_score(LogisticRegression(),\n",
    "#                     X_train, y_train, X_test, y_test))\n",
    "#     scores_svm.append(get_score(SVC(), X_train, y_train, X_test, y_test))\n",
    "#     scores_rf.append(get_score(RandomForestClassifier(),\n",
    "#                      X_train, y_train, X_test, y_test))\n",
    "\n",
    "# print(scores_l)\n",
    "# print(scores_svm)\n",
    "# print(scores_rf)\n"
   ]
  },
  {
   "cell_type": "code",
   "execution_count": 61,
   "metadata": {},
   "outputs": [
    {
     "name": "stdout",
     "output_type": "stream",
     "text": [
      "0.77\n"
     ]
    }
   ],
   "source": [
    "from sklearn.ensemble import RandomForestClassifier\n",
    "model = RandomForestClassifier(n_estimators=40)\n",
    "model.fit(X_train, y_train)\n",
    "\n",
    "print(model.score(X_test, y_test))\n"
   ]
  },
  {
   "cell_type": "code",
   "execution_count": 62,
   "metadata": {},
   "outputs": [
    {
     "name": "stdout",
     "output_type": "stream",
     "text": [
      "              precision    recall  f1-score   support\n",
      "\n",
      "           0       0.78      0.76      0.77        50\n",
      "           1       0.76      0.78      0.77        50\n",
      "\n",
      "    accuracy                           0.77       100\n",
      "   macro avg       0.77      0.77      0.77       100\n",
      "weighted avg       0.77      0.77      0.77       100\n",
      "\n"
     ]
    },
    {
     "data": {
      "image/png": "[encoded data removed]",
      "text/plain": [
       "<Figure size 504x360 with 2 Axes>"
      ]
     },
     "metadata": {
      "needs_background": "light"
     },
     "output_type": "display_data"
    }
   ],
   "source": [
    "y_pred = model.predict(X_test)\n",
    "cm = confusion_matrix(y_test, y_pred)\n",
    "# print(cm)\n",
    "\n",
    "plt.figure(figsize=(7, 5))\n",
    "sn.heatmap(cm, annot=True)\n",
    "plt.xlabel('Predicted')\n",
    "plt.ylabel('Truth')\n",
    "print(classification_report(y_test, y_pred))\n"
   ]
  },
  {
   "cell_type": "code",
   "execution_count": 63,
   "metadata": {},
   "outputs": [
    {
     "name": "stdout",
     "output_type": "stream",
     "text": [
      "0.71\n"
     ]
    }
   ],
   "source": [
    "from sklearn import tree\n",
    "model=tree.DecisionTreeClassifier()\n",
    "model.fit(X_train,y_train)\n",
    "\n",
    "print(model.score(X_test,y_test))"
   ]
  },
  {
   "cell_type": "code",
   "execution_count": 64,
   "metadata": {},
   "outputs": [
    {
     "name": "stdout",
     "output_type": "stream",
     "text": [
      "              precision    recall  f1-score   support\n",
      "\n",
      "           0       0.72      0.68      0.70        50\n",
      "           1       0.70      0.74      0.72        50\n",
      "\n",
      "    accuracy                           0.71       100\n",
      "   macro avg       0.71      0.71      0.71       100\n",
      "weighted avg       0.71      0.71      0.71       100\n",
      "\n"
     ]
    },
    {
     "data": {
      "image/png": "[encoded data removed]",
      "text/plain": [
       "<Figure size 504x360 with 2 Axes>"
      ]
     },
     "metadata": {
      "needs_background": "light"
     },
     "output_type": "display_data"
    }
   ],
   "source": [
    "y_pred = model.predict(X_test)\n",
    "cm = confusion_matrix(y_test, y_pred)\n",
    "# print(cm)\n",
    "\n",
    "plt.figure(figsize=(7, 5))\n",
    "sn.heatmap(cm, annot=True)\n",
    "plt.xlabel('Predicted')\n",
    "plt.ylabel('Truth')\n",
    "print(classification_report(y_test, y_pred))\n"
   ]
  },
  {
   "cell_type": "code",
   "execution_count": 65,
   "metadata": {},
   "outputs": [
    {
     "name": "stdout",
     "output_type": "stream",
     "text": [
      "              precision    recall  f1-score   support\n",
      "\n",
      "           0       0.79      0.76      0.78        50\n",
      "           1       0.77      0.80      0.78        50\n",
      "\n",
      "    accuracy                           0.78       100\n",
      "   macro avg       0.78      0.78      0.78       100\n",
      "weighted avg       0.78      0.78      0.78       100\n",
      "\n",
      "              precision    recall  f1-score   support\n",
      "\n",
      "           0       0.72      0.76      0.74        50\n",
      "           1       0.74      0.70      0.72        50\n",
      "\n",
      "    accuracy                           0.73       100\n",
      "   macro avg       0.73      0.73      0.73       100\n",
      "weighted avg       0.73      0.73      0.73       100\n",
      "\n",
      "              precision    recall  f1-score   support\n",
      "\n",
      "           0       0.78      0.76      0.77        50\n",
      "           1       0.76      0.78      0.77        50\n",
      "\n",
      "    accuracy                           0.77       100\n",
      "   macro avg       0.77      0.77      0.77       100\n",
      "weighted avg       0.77      0.77      0.77       100\n",
      "\n",
      "                 model  best_score                   best_params\n",
      "0                  svm    0.733861  {'C': 1, 'kernel': 'linear'}\n",
      "1        random_forest    0.708544           {'n_estimators': 5}\n",
      "2  logistic_regression    0.726234                      {'C': 1}\n"
     ]
    },
    {
     "data": {
      "image/png": "[encoded data removed]",
      "text/plain": [
       "<Figure size 504x360 with 2 Axes>"
      ]
     },
     "metadata": {
      "needs_background": "light"
     },
     "output_type": "display_data"
    },
    {
     "data": {
      "image/png": "[encoded data removed]",
      "text/plain": [
       "<Figure size 504x360 with 2 Axes>"
      ]
     },
     "metadata": {
      "needs_background": "light"
     },
     "output_type": "display_data"
    },
    {
     "data": {
      "image/png": "[encoded data removed]",
      "text/plain": [
       "<Figure size 504x360 with 2 Axes>"
      ]
     },
     "metadata": {
      "needs_background": "light"
     },
     "output_type": "display_data"
    }
   ],
   "source": [
    "from sklearn.model_selection import GridSearchCV\n",
    "model_param = {\n",
    "    'svm': {\n",
    "        'model': svm.SVC(gamma='auto'),\n",
    "        'params': {\n",
    "            'C': [1, 10, 20],\n",
    "            'kernel': ['rbf', 'linear']\n",
    "        }\n",
    "    },\n",
    "    'random_forest': {\n",
    "        'model': RandomForestClassifier(),\n",
    "        'params': {\n",
    "            'n_estimators': [1, 5, 10]\n",
    "        }\n",
    "    },\n",
    "    'logistic_regression': {\n",
    "        'model': LogisticRegression(),\n",
    "        'params': {\n",
    "            'C': [1, 5, 10]\n",
    "        }\n",
    "    }\n",
    "}\n",
    "\n",
    "scores = []\n",
    "for model_name, mp in model_param.items():\n",
    "    clf = GridSearchCV(mp['model'], mp['params'],\n",
    "                       cv=5, return_train_score=False)\n",
    "    clf.fit(X_train, y_train)\n",
    "    scores.append({\n",
    "        'model': model_name,\n",
    "        'best_score': clf.best_score_,\n",
    "        'best_params': clf.best_params_\n",
    "    })\n",
    "\n",
    "    y_pred = clf.predict(X_test)\n",
    "    cm = confusion_matrix(y_test, y_pred)\n",
    "    # print(cm)\n",
    "\n",
    "    plt.figure(figsize=(7, 5))\n",
    "    sn.heatmap(cm, annot=True)\n",
    "    plt.xlabel('Predicted')\n",
    "    plt.ylabel('Truth')\n",
    "    print(classification_report(y_test, y_pred))\n",
    "\n",
    "dfr = pd.DataFrame(scores, columns=['model', 'best_score', 'best_params'])\n",
    "print(dfr)\n"
   ]
  }
 ],
 "metadata": {
  "kernelspec": {
   "display_name": "base",
   "language": "python",
   "name": "python3"
  },
  "language_info": {
   "codemirror_mode": {
    "name": "ipython",
    "version": 3
   },
   "file_extension": ".py",
   "mimetype": "text/x-python",
   "name": "python",
   "nbconvert_exporter": "python",
   "pygments_lexer": "ipython3",
   "version": "3.9.12 (main, Apr  4 2022, 05:22:27) [MSC v.1916 64 bit (AMD64)]"
  },
  "orig_nbformat": 4,
  "vscode": {
   "interpreter": {
    "hash": "112487b1269e448b97dc03c5660a72d9b2582181533ece4c6ddf86af966da906"
   }
  }
 },
 "nbformat": 4,
 "nbformat_minor": 2
}
